{
  "nbformat": 4,
  "nbformat_minor": 0,
  "metadata": {
    "colab": {
      "name": "A01_ECSE_446_546_Student.ipynb",
      "provenance": [],
      "collapsed_sections": [],
      "history_visible": true
    },
    "kernelspec": {
      "name": "python3",
      "display_name": "Python 3"
    },
    "language_info": {
      "name": "python"
    }
  },
  "cells": [
    {
      "cell_type": "markdown",
      "metadata": {
        "id": "zLQLRyXbH6Mq"
      },
      "source": [
        "# **Assignment 1: Rendering systems**\n",
        "\n",
        "## ECSE 446/546: Realistic/Advanced Image Synthesis, Fall 2021\n",
        "\n",
        "#### Due: Wednesday, October 13, 2021 at 11:59pm EST on [myCourses](https://mycourses2.mcgill.ca/)\n",
        "\n",
        "#### Weight: 25% (ECSE 446) / 20% (ECSE 546)\n",
        "\n",
        "*In this assignment, you will implement the techniques discussed in the 'Rendering Systems' module. You will implement key components of **rasterization** and **ray tracing** pipelines.*\n",
        "\n",
        "Since evaluation for this assignment is partly automated, it is important that you fill in your code **only in the cells indicated**. If needed, extra cells may be added, but only at the end of the notebook. Any cells added in between will very likely present issues with the autograder.\n",
        "\n",
        "The *bonus* questions in the end are for extra credit and are optional."
      ]
    },
    {
      "cell_type": "markdown",
      "metadata": {
        "id": "G425yUe6DXIO"
      },
      "source": [
        "\n",
        "---\n",
        "\n",
        "## **Assignment Submission Process**\n",
        "\n",
        "Modify the `ipynb` notebook we provide on myCourses and submit your modified file, renamed according to your student ID, as\n",
        "\n",
        "<font color=\"red\">A1-[YourStudentID].ipynb</font>\n",
        "\n",
        "For example, if your student ID is **123456789**, then your submission filename should be **A1-123456789.ipynb**.\n",
        "\n",
        "> Note that every time you submit a new file, your previous submission will be overwritten.\n",
        "**All submissions must be made using myCourses.**\n",
        "You can submit as many times as you like, but we will only grade the last submission.\n",
        "\n",
        "This assignment is to be completed *individually*.\n",
        "\n",
        "### Late policy\n",
        "\n",
        "Failure to submit a (valid) assignment on time will result in a score of **zero (0%)** on the assignment.\n",
        "**We will not grant extensions.**\n",
        "Exceptional circumstances will be treated as specified in [McGill's Policies on Student Rights and Responsibilities](https://www.mcgill.ca/students/srr/).\n",
        "\n",
        "### Plagiarism and cheating\n",
        "Plagiarism is an academic offense of misrepresenting authorship. This can result in penalties up to expulsion. It is also possible to plagiarise your own work, e.g., by submitting work from another course without proper attribution. When in doubt, attribute!\n",
        "\n",
        "We expect you to submit your own work. Assignments are individual tasks. That said, we want to promote an environment where you are comfortable discussing ideas together. A good rule to follow: fully understand every solution you submit and only submit code that was written by you.\n",
        "\n",
        "McGill values academic integrity and students should take the time to fully understand the meaning and consequences of cheating, plagiarism and other academic offenses (as defined in the Code of Student Conduct and Disciplinary Procedures — see these two links [[1]](https://www.mcgill.ca/integrity) [[2]](https://www.mcgill.ca/students/srr/honest)).\n",
        "\n",
        "In accordance with article 15 of the Charter of Students' Rights, students may submit any written or programming components in either French or English.\n",
        "\n",
        "### Code comparison\n",
        "\n",
        "We will use code similarity checkers to detect and deal with cases of plagiarism and cheating.\n",
        "\n",
        "### Python `import` statements\n",
        "\n",
        "We provide all import statements required to complete the assignment.\n",
        "You must not use any `import`s other than the ones we provide.\n",
        "Doing so will result in a score of **zero (0%)** on the assignment."
      ]
    },
    {
      "cell_type": "markdown",
      "metadata": {
        "id": "o_QYiY3fAk5F"
      },
      "source": [
        "\n",
        "---\n",
        "\n",
        "## **Notes and Tips**\n",
        "\n",
        "### Debugging in Jupyter Notebook / Google Colab\n",
        "\n",
        "[Here](https://colab.research.google.com/github/jakevdp/PythonDataScienceHandbook/blob/master/notebooks/01.06-Errors-and-Debugging.ipynb) is a quick tutorial by Jake VanderPlas on how to debug in Jupyter Notebook / Google Colab using `ipdb`.\n",
        "For a complete list of commands and their usage, check out `pdb`'s [official documentation](https://docs.python.org/3/library/pdb.html).\n",
        "\n",
        "\n",
        "### OpenEXR Format and EXR Viewer\n",
        "\n",
        "[OpenEXR](http://www.openexr.com/) is a standardized file format for storing high dynamic range (HDR) images. \n",
        "Unlike low dynamic range (LDR) image formats — such as JPG and PNG — HDR image pixel color values are not restricted to the interval $[0, 1]$. \n",
        "This allows us to represent luminance ranges similar to the range we experience through the human visual system in the real-world.\n",
        "\n",
        "**For this assignment though, all output pixel color values in your rendered image should still be clipped to $[0, 1]$.**\n",
        "\n",
        "We recommend using [tev](https://github.com/Tom94/tev), a lightweight yet powerful EXR viewer that supports various tonemapping operators and pixel-level image inspection and comparison.\n",
        "To obtain `tev`, follow the OS-specific instruction below:\n",
        "\n",
        "- Windows / macOS: Download the [pre-built binaries](https://github.com/Tom94/tev/releases). \n",
        "If your Mac comes with the Apple M1 chip and you want to to run `tev` natively (not via Rosetta 2), [build it from source](https://github.com/Tom94/tev#macos--linux).\n",
        "- Linux: Read this [step-by-step guide](https://github.com/Tom94/tev#macos--linux) to build from source.\n",
        "For Arch Linux and other Arch-based distros (Manjaro, EndeavourOS, etc.), `tev` is available in [AUR](https://aur.archlinux.org/packages/tev/).\n",
        "\n",
        "### Render time\n",
        "\n",
        "For each experiment, the default image height and width `imgWidth` and `imgHeight` have been set to `64`. This enables faster debugging.\n",
        "\n",
        "**Once you think your implementation works, render images of width and height `512` instead of `64`**."
      ]
    },
    {
      "cell_type": "markdown",
      "metadata": {
        "id": "IrX_77C36nxV"
      },
      "source": [
        "\n",
        "---\n",
        "\n",
        "## **Preparation**\n",
        "\n",
        "Let us first install and/or import all necessary modules for this assignment. Note that you are not allowed to import anything apart from the modules in this cell, as they will not be available in our autograding environment.\n",
        "\n",
        "Run the cell below to install and import all necessary modules."
      ]
    },
    {
      "cell_type": "code",
      "metadata": {
        "id": "tkemish47G_4",
        "colab": {
          "base_uri": "https://localhost:8080/"
        },
        "outputId": "45c301e9-910d-4edb-823a-e478d8c60d84"
      },
      "source": [
        "!pip install pyexr\n",
        "\n",
        "%matplotlib inline\n",
        "\n",
        "import math\n",
        "import time\n",
        "\n",
        "import numpy as np\n",
        "import matplotlib.pyplot as plt\n",
        "from PIL import Image as im\n",
        "import pyexr"
      ],
      "execution_count": 1,
      "outputs": [
        {
          "output_type": "stream",
          "name": "stdout",
          "text": [
            "Collecting pyexr\n",
            "  Downloading PyEXR-0.3.10.tar.gz (4.6 kB)\n",
            "Collecting OpenEXR\n",
            "  Downloading OpenEXR-1.3.2.tar.gz (10 kB)\n",
            "Requirement already satisfied: numpy in /usr/local/lib/python3.7/dist-packages (from pyexr) (1.19.5)\n",
            "Requirement already satisfied: future in /usr/local/lib/python3.7/dist-packages (from pyexr) (0.16.0)\n",
            "Building wheels for collected packages: pyexr, OpenEXR\n",
            "  Building wheel for pyexr (setup.py) ... \u001b[?25l\u001b[?25hdone\n",
            "  Created wheel for pyexr: filename=PyEXR-0.3.10-py2.py3-none-any.whl size=4518 sha256=d70e177ca95629de80e6a2de2c19fb1ec70245f7a4130ecc373b729b082ac448\n",
            "  Stored in directory: /root/.cache/pip/wheels/da/c8/fb/f00811aa6cb7b74d76ab5941aea24ecf85fd8ca26f1a53ee39\n",
            "  Building wheel for OpenEXR (setup.py) ... \u001b[?25l\u001b[?25hdone\n",
            "  Created wheel for OpenEXR: filename=OpenEXR-1.3.2-cp37-cp37m-linux_x86_64.whl size=189355 sha256=d53d41cc06e35a0584faaa63016bfee7cf05c866d4aeb2d6261b45071ef2694a\n",
            "  Stored in directory: /root/.cache/pip/wheels/d1/c6/6c/dcf5d042ed2d547da41021f47957b16bebe9cadfd095765d44\n",
            "Successfully built pyexr OpenEXR\n",
            "Installing collected packages: OpenEXR, pyexr\n",
            "Successfully installed OpenEXR-1.3.2 pyexr-0.3.10\n"
          ]
        }
      ]
    },
    {
      "cell_type": "markdown",
      "metadata": {
        "id": "0lwrheeK9cU-"
      },
      "source": [
        "### Helper Functions\n",
        "\n",
        "Next, we define some helper functions below that will be useful across the whole assignment.\n",
        "\n",
        "> **Note**: You are not _required_ to use these helper function implementations. These are only provided to reduce the amount of boilerplate code you need to write.\n",
        "\n",
        "Specifically,\n",
        "- `normalize(v)`: Normalizes a vector `v`.\n",
        "- `distance(a, b)`: Computes the distance between two points `a` and `b`.\n",
        "- `squaredDistance(a, b)`: Computes the *squared* distance between two points `a` and `b`.\n",
        "- `perspective(fovy, aspect, near, far)`: Computes the perspective projection matrix.\n",
        "- `lookAt(eye, at, up)`: Computes the viewing transformation matrix.\n",
        "- `image2NDC(x, y, width, height)`: Maps the given image coordinate $(x, y)$ into the canonical view volume (or normalized device coordinates, NDC).\n",
        "- `NDC2Image(x, y, width, height)`: Maps the given coordinate $(x, y)$ in canonical view volume into the screen space.\n",
        "\n",
        "*Note that you may also want to define your own helper functions in this cell.*"
      ]
    },
    {
      "cell_type": "code",
      "metadata": {
        "id": "W278HfFk_Flm"
      },
      "source": [
        "cam_near = 0.1\n",
        "cam_far = 2000\n",
        "p = 1\n",
        "\n",
        "def interpolate_q4(triangle, attr, p):\n",
        "    \"\"\"\n",
        "    Accurate perspective interpolation.\n",
        "    Parameters:\n",
        "    triangle: 2D numpy array containing triangle's vertex positions (homogeneous\n",
        "              coordinates) in NDC space.\n",
        "        Note that 'triangle' here is in the form of\n",
        "        [[v0.x, v0.y, v0.z, v0.w], [v1.x, v1.y, v1.z, v1.w], [v2.x, v2.y, v2.z, v2.w]]\n",
        "        and NOT a Triangle object.\n",
        "    attr: Attribute to interpolate across the triangle (e.g., position)\n",
        "    p: Point (in NDC space) at which to compute interpolated attribute\n",
        "    \"\"\"\n",
        "    (alpha, beta, gamma) = barycentric_q4(triangle[0], triangle[1], triangle[2], p)\n",
        "    return (alpha * attr[0] / triangle[0][3] + beta * attr[1] / triangle[1][3] + gamma * attr[2] / triangle[2][3]) / (\n",
        "            alpha / triangle[0][3] + beta / triangle[1][3] + gamma / triangle[2][3])\n",
        "\n",
        "\n",
        "def barycentric_q4(a, b, c, p):\n",
        "    \"\"\"\n",
        "    Compute Barycentric coordinates of point p w.r.t triangle a, b, c.\n",
        "    Parameters:\n",
        "    a, b, c: vertices coordinates of the triangle.\n",
        "    p: the point you want to know its  barycentric coordinates\n",
        "    \"\"\"\n",
        "    a = a / a[-1]\n",
        "    b = b / b[-1]\n",
        "    c = c / c[-1]\n",
        "    area = signedArea(a, b, c)\n",
        "    alpha = signedArea(b, c, p) / area\n",
        "    beta = signedArea(c, a, p) / area\n",
        "    gamma = 1 - alpha - beta\n",
        "    return alpha, beta, gamma\n",
        "\n",
        "def rasterize_q4(scene, triangle, img, zbuf):\n",
        "    \"\"\"\n",
        "        Rasterize a single triangle in the scene.\n",
        "        Parameters:\n",
        "        scene: an instance of Scene class.\n",
        "        triangle: the triangle to be rasterized. It is an instance of Triangle class, not vertices in np.array.\n",
        "    \"\"\"\n",
        "\n",
        "    # Scene Configs\n",
        "    width = scene.config[\"width\"]\n",
        "    height = scene.config[\"height\"]\n",
        "    fov = scene.config[\"fov\"] * np.pi / 180.\n",
        "\n",
        "    # Transformation Matrices\n",
        "    transform_Cam = lookAt(scene.cam.eye, scene.cam.at, scene.cam.up)\n",
        "    transform_Pers = perspective(fov, width / height, cam_near, cam_far) @ transform_Cam\n",
        "\n",
        "    # Triangle Related Vertices\n",
        "    tri_Wrd3d = np.array(([triangle.v0, triangle.v1, triangle.v2]))\n",
        "    # 4d versions below\n",
        "    tri_Wrd = np.array(([np.append(v, 1) for v in tri_Wrd3d]))\n",
        "\n",
        "    tri_Cam = np.transpose(transform_Cam @ np.transpose(tri_Wrd))\n",
        "    tri_NDC = np.transpose(transform_Pers @ np.transpose(tri_Wrd))\n",
        "    v0_NDC4d, v1_NDC4d, v2_NDC4d = tri_NDC\n",
        "\n",
        "    # Compute the bounding box and map to Image Space\n",
        "    ws = np.stack((tri_NDC[:, 3], tri_NDC[:, 3]), axis=-1)\n",
        "    xmin, xmax, ymin, ymax = bbox(tri_NDC[:, :2] / ws)\n",
        "\n",
        "    # The corresponding minimum and maximum points of the Bounding box of the triangle in the Image Space\n",
        "    min_Img, max_Img = np.array(NDC2Image(xmin, ymin, width, height)), np.array(\n",
        "        NDC2Image(xmax, ymax, width, height))\n",
        "\n",
        "    # Loop over pixels in the bbox\n",
        "    for i in range(min_Img[0], max_Img[0] + 1):\n",
        "        for j in range(max_Img[1], min_Img[1] + 1):\n",
        "            p_NDC = np.append(image2NDC(i, j, width, height), [1, 1])\n",
        "\n",
        "            # Compute the Bary Coord for the pixel in NDC Space\n",
        "            (a, b, c) = barycentric(v0_NDC4d / v0_NDC4d[3], v1_NDC4d / v1_NDC4d[3], v2_NDC4d / v2_NDC4d[3], p_NDC)\n",
        "\n",
        "            # the pixel is in the triangle\n",
        "            if 0 <= a and 0 <= b  and 0 <= c:\n",
        "                # Interpolate to compute the World Space Coord for the pixel\n",
        "                # tri_NDC = tri_NDC / np.stack(([tri_NDC[:, -1],tri_NDC[:, -1], tri_NDC[:, -1], tri_NDC[:, -1]]), axis=-1)\n",
        "                p_Wrd = interpolate_q4(tri_NDC, tri_Wrd, p_NDC)\n",
        "                p_Wrd /= p_Wrd[-1]\n",
        "                p_depth2Cam = p_Wrd[-2] - scene.cam.eye[-1]\n",
        "\n",
        "                # Update if closer to the camera\n",
        "                if p_depth2Cam < zbuf[j, i]:\n",
        "                    # compute the world coord\n",
        "                  #  p_World = np.linalg.inv(transform_Cam) @ p_Cam\n",
        "                  #  p_World /= p_World[-1]\n",
        "                    zbuf[j, i] = p_depth2Cam\n",
        "                    img[j, i] = shade(scene, p_Wrd[:-1], triangle)\n",
        "    return img\n",
        "\n",
        "def normalize(v, eps=1e-8):\n",
        "    \"\"\"\n",
        "    Normalize a vector. Add a tiny eps to the denominator to prevent\n",
        "    divide-by-zero errors.\n",
        "    \"\"\"\n",
        "    dist = np.linalg.norm(v)\n",
        "    return v / (dist + eps)\n",
        "\n",
        "\n",
        "def distance(a, b):\n",
        "    return np.linalg.norm(b - a)\n",
        "\n",
        "\n",
        "def squaredDistance(a, b):\n",
        "    v = b - a\n",
        "    return np.dot(v.T, v)\n",
        "\n",
        "\n",
        "def perspective(fovy, aspect, near, far):\n",
        "    \"\"\"\n",
        "    Perspective projection transformation\n",
        "    Parameters:\n",
        "        fovy (float): vertical field of view (in radians).\n",
        "        aspect (float): aspect ratio (width/height).\n",
        "        near (float): distance to near plane.\n",
        "        far (float): distance to far plane.\n",
        "    \"\"\"\n",
        "    n = near\n",
        "    f = far\n",
        "    t = near * math.tan(fovy / 2)\n",
        "    r = t * aspect\n",
        "    return np.array([\n",
        "        [n / r, 0, 0, 0],\n",
        "        [0, n / t, 0, 0],\n",
        "        [0, 0, - (f + n) / (f - n), -2 * f * n / (f - n)],\n",
        "        [0, 0, -1, 0]\n",
        "    ])\n",
        "\n",
        "\n",
        "def lookAt(eye, at, up):\n",
        "    \"\"\"\n",
        "    Viewing transformation.\n",
        "    Parameters:\n",
        "        eye (np.array): eye postion\n",
        "        at (np.array): the point the eye is looking at (usually, the center of\n",
        "          an object of interest)\n",
        "        up (np.array): up vector (vertically upward direction)\n",
        "    \"\"\"\n",
        "    z = normalize(eye - at)\n",
        "    x = normalize(np.cross(up, z))\n",
        "    y = normalize(np.cross(z, x))\n",
        "    A = np.column_stack((x, y, z, eye))\n",
        "    A = np.row_stack((A, np.array([0, 0, 0, 1])))\n",
        "    return np.linalg.inv(A)\n",
        "\n",
        "\n",
        "def image2NDC(x, y, width, height):\n",
        "    \"\"\" \n",
        "    Image space (-0.5..width-0.5, -0.5..height-0.5) to NDC (normalized \n",
        "    device coordinates) space (-1..1, -1..1) transform.\n",
        "    Note that (0, 0) in image space is the TOP left of the image.\n",
        "    Parameters:\n",
        "        x (float): x coordinate in image space.\n",
        "        y (float): y coordinate in image space.\n",
        "    \"\"\"\n",
        "    return ((2 * x - width + 1) / width, -(2 * y - height + 1) / height)\n",
        "\n",
        "\n",
        "def NDC2Image(x, y, width, height):\n",
        "    \"\"\"\n",
        "    NDC space to image space transform.\n",
        "    Parameters:\n",
        "        x (float): x coordinate in NDC space.\n",
        "        y (float): y coordinate in NDC space.\n",
        "    \"\"\"\n",
        "    return (round((width * x + width - 1) / 2), round((height * (-y) + height - 1) / 2))"
      ],
      "execution_count": 70,
      "outputs": []
    },
    {
      "cell_type": "markdown",
      "metadata": {
        "id": "2vPZHYGPqQpb"
      },
      "source": [
        "### Rendering data structures\n",
        "\n",
        "We now define essential data structures for our _scene description_. All these data structures (except for *Triangle*) **must be used as is, without modification**. These classes will then be employed to define rasterization and ray tracing routines. (these cells have a \"DO NOT TOUCH\" warning.\n",
        "\n",
        "> **Note**: The autograder will not pick these cells up from your submission, but will rather use ones from the handout notebook -- so any modifications you make to the rendering data structures will not be available during evaluation.\n",
        "\n",
        "In particular, we define the *Scene*, *Camera*, *PointLight*, *Ray*, *Triangle* and *Diffuse* classes. There are two blank methods to be completed in the *Triangle* class. These methods are to be completed for the ray tracing part of the assignment. (For now, if you choose to do rasterization first, you may safely ignore the incomplete methods in the *Triangle* class)\n",
        "\n",
        "All other classes except *Ray* are shared across rasterization and ray tracing."
      ]
    },
    {
      "cell_type": "code",
      "metadata": {
        "id": "psHvz43DqrE3"
      },
      "source": [
        "# DO NOT TOUCH\n",
        "class Scene:\n",
        "    \"\"\" \n",
        "    A class used to represent a rendering scene\n",
        "    Attributes:\n",
        "        geometry: objects in the scene.\n",
        "        light: light info\n",
        "        camera: camera info\n",
        "        config: store width, height and fov\n",
        "    \"\"\"\n",
        "    def __init__(self, geometry, light, camera, config):\n",
        "        self.geometry = geometry\n",
        "        self.light = light\n",
        "        self.cam = camera\n",
        "        # config is a dictionary with keys: width, height, fov\n",
        "        self.config = config"
      ],
      "execution_count": 22,
      "outputs": []
    },
    {
      "cell_type": "code",
      "metadata": {
        "id": "Ts4PrnIidWuI"
      },
      "source": [
        "# DO NOT TOUCH\n",
        "class Camera:\n",
        "    \"\"\" \n",
        "    A class to represent a camera\n",
        "    Attributes:\n",
        "        eye: position of the camera\n",
        "        at: position where the camera looks at\n",
        "        up: up direction of the camera\n",
        "    \"\"\"\n",
        "    def __init__(self, eye, at, up):\n",
        "        self.eye = eye\n",
        "        self.at = at\n",
        "        self.up = up"
      ],
      "execution_count": 23,
      "outputs": []
    },
    {
      "cell_type": "code",
      "metadata": {
        "id": "frP4mGHNqw5l"
      },
      "source": [
        "# DO NOT TOUCH\n",
        "class PointLight:\n",
        "    \"\"\" \n",
        "    A point light source\n",
        "    Attributes:\n",
        "        p: position of the light source\n",
        "        e: emmisive flux (power) of the light source\n",
        "    \"\"\"\n",
        "    def __init__(self, position, emission):\n",
        "        self.p = position\n",
        "        self.e = emission"
      ],
      "execution_count": 24,
      "outputs": []
    },
    {
      "cell_type": "code",
      "metadata": {
        "id": "WQqd9EiJ4Pji"
      },
      "source": [
        "# DO NOT TOUCH\n",
        "class Ray:\n",
        "    \"\"\" \n",
        "    A class to represent a ray\n",
        "    Attributes:\n",
        "        o: origin of the ray\n",
        "        d: direction of the ray\n",
        "        max: max distance at which the ray is capped (to avoid evaluating \n",
        "          indefinitely far points along a ray, we cap it to a large distance)\n",
        "    \"\"\"\n",
        "    def __init__(self, origin, dir, max=1e5):\n",
        "        self.o = origin\n",
        "        self.d = dir\n",
        "        self.max = max"
      ],
      "execution_count": 25,
      "outputs": []
    },
    {
      "cell_type": "code",
      "metadata": {
        "id": "RAoRHMj34Gfi"
      },
      "source": [
        "# DO NOT TOUCH\n",
        "class Diffuse:\n",
        "    \"\"\" \n",
        "    Diffuse material\n",
        "    Attributes:\n",
        "        c: diffuse color\n",
        "    \"\"\"\n",
        "    def __init__(self, color):\n",
        "        self.c = np.asarray(color)"
      ],
      "execution_count": 26,
      "outputs": []
    },
    {
      "cell_type": "markdown",
      "metadata": {
        "id": "JAViEmbWBHaz"
      },
      "source": [
        "The following `Triangle` class has two methods you will need to complete for the ray tracing component of this assignment. Instructions for completing this are found below, in the ray tracing section. You may safely ignore these for the first question (rasterization)."
      ]
    },
    {
      "cell_type": "code",
      "metadata": {
        "id": "XIn-BJAh56Wi"
      },
      "source": [
        "class Triangle:\n",
        "    \"\"\" \n",
        "    A class to represent a triangle\n",
        "    Attributes:\n",
        "        v0, v1, v2: vertices of the triangle\n",
        "        mat: material of the triangle\n",
        "    \"\"\"\n",
        "    def __init__(self, v0, v1, v2, mat):\n",
        "        self.v0 = np.asarray(v0)\n",
        "        self.v1 = np.asarray(v1)\n",
        "        self.v2 = np.asarray(v2)\n",
        "        self.mat = mat\n",
        "\n",
        "    def intersect(self, r):\n",
        "        \"\"\"\n",
        "      Intersect this triangle with a ray\n",
        "      Parameters:\n",
        "          r: ray to intersect\n",
        "      Returns:\n",
        "          0 if no hit, otherwise the distance to the hit point\n",
        "      \"\"\"\n",
        "        # TODO: implement this\n",
        "        A = np.transpose(np.array([-r.d, self.v1 - self.v0, self.v2 - self.v0]))\n",
        "        b = r.o - self.v0\n",
        "        eps = 1e-5\n",
        "        # Solve Ax = b\n",
        "        try:\n",
        "            x = np.linalg.solve(A, b)\n",
        "            t = x[0]\n",
        "            dist = distance(r.o + t * r.d, r.o)\n",
        "            if 0 <= x[1] <= 1 and 0 <= x[2] <= 1 and 0 <= x[1] + x[2] <= 1 and t > 0 and (dist + eps) < r.max:\n",
        "                return dist\n",
        "            else:\n",
        "                return 0\n",
        "        except np.linalg.LinAlgError:\n",
        "            return 0\n",
        "\n",
        "    def normal(self, hit):\n",
        "        # TODO: implement this\n",
        "        # get 2 edges\n",
        "        e1 = self.v1 - self.v0\n",
        "        e2 = self.v2 - self.v0\n",
        "        return normalize(np.cross(e1, e2))"
      ],
      "execution_count": 27,
      "outputs": []
    },
    {
      "cell_type": "markdown",
      "metadata": {
        "id": "it-CLZwNUGuP"
      },
      "source": [
        "## Question 1 - Rasterization - Single primitive (25 points)\n",
        "\n",
        "We will implement a minimal rasterization pipeline as a smoketest. The goal of this question will be to rasterize a single triangle and display it on the screen.\n",
        "\n",
        "Recall the basic triangle rasterization algorithm you learned in class:\n",
        "* compute _edge functions_ from projected vertices\n",
        "* check if the edge function values evaluated at a given pixel are all non-negative.\n",
        "\n",
        "We will take an alternative (but equivalent) approach that is more convenient when interpolating vertex positions and $z$-buffer values. You may recall this is the Barycentric coordinate approach which we discussed, albeit in the context of raytracing (ray-triangle intersection test).\n",
        "\n",
        "#### Rasterization using Barycentric coordinates\n",
        "\n",
        "Suppose a point $P$ is represented in terms of its barycentric coordinates $(\\alpha, \\beta, \\gamma)$ with respect to a triangle $\\triangle ABC$.\n",
        "We know that, $P$ lies inside $\\triangle ABC$ if $\\alpha \\geq 0, \\beta \\geq 0, \\gamma \\geq 0$.\n",
        "So, given Barycentric coordinates $P$, inside-outside tests simply amount to checking the non-negativity of $\\alpha, \\beta, \\gamma$.\n",
        "This reduces the problem to computing the exact barycentric coordinates of $P$, which may be done using the following formulae:\n",
        "\n",
        "$$\n",
        "\\begin{align*}\n",
        "    \\alpha &= \\frac{S_{\\triangle BCP}}{S_{\\triangle ABC}}, \\\\\n",
        "    \\beta &= \\frac{S_{\\triangle CAP}}{S_{\\triangle ABC}}, \\\\\n",
        "    \\gamma &= 1 - \\alpha - \\beta,\n",
        "\\end{align*}\n",
        "$$\n",
        "\n",
        "where the signed area of a triangle $S_{\\triangle v_0 v_1 v_2}$ is defined as\n",
        "\n",
        "$$\n",
        "S_{\\triangle v_0 v_1 v_2} = \\frac{1}{2} [ (v_{1x} - v_{0x}) (v_{2y} - v_{0y}) - (v_{1y} - v_{0y}) (v_{2x} - v_{0x}) ].\n",
        "$$\n",
        "\n",
        "Interpolation of parameters across the triangle is a tricky problem and requires perspective correction.\n",
        "For technical details, please consult [The OpenGL Graphics System: A Specification](https://www.khronos.org/registry/OpenGL/specs/gl/glspec44.core.pdf), page 427.\n",
        "\n",
        "We provide in the following cell a complete implementation of all helper functions desribed above."
      ]
    },
    {
      "cell_type": "code",
      "metadata": {
        "id": "Qjzr4JKQobRD"
      },
      "source": [
        "def cross(a, b):\n",
        "    \"\"\" Cross product of vectors in x-y plane. The result is the the z component (a scalar). \"\"\"\n",
        "    return a[0]*b[1] - a[1]*b[0]\n",
        "\n",
        "\n",
        "def signedArea(a, b, c):\n",
        "    \"\"\"\n",
        "    Signed area of the triangle times 2.\n",
        "    Parameters:\n",
        "    a, b, c: vertices coordinates of the triangle.\n",
        "    \"\"\"\n",
        "    return cross(b-a, c-a)\n",
        "\n",
        "\n",
        "def barycentric(a, b, c, p):\n",
        "    \"\"\"\n",
        "    Compute Barycentric coordinates of point p w.r.t triangle a, b, c.\n",
        "    Parameters:\n",
        "    a, b, c: vertices coordinates of the triangle.\n",
        "    p: the point you want to know its  barycentric coordinates\n",
        "    \"\"\"\n",
        "    area = signedArea(a, b, c)\n",
        "    alpha = signedArea(b, c, p) / area\n",
        "    beta = signedArea(c, a, p) / area\n",
        "    gamma = 1 - alpha - beta\n",
        "    return (alpha, beta, gamma)\n",
        "\n",
        "\n",
        "def interpolate(triangle, attr, p):\n",
        "    \"\"\" \n",
        "    Accurate perspective interpolation.\n",
        "    Parameters:\n",
        "    triangle: 2D numpy array containing triangle's vertex positions (homogeneous\n",
        "              coordinates) in NDC space.\n",
        "        Note that 'triangle' here is in the form of\n",
        "        [[v0.x, v0.y, v0.z, v0.w], [v1.x, v1.y, v1.z, v1.w], [v2.x, v2.y, v2.z, v2.w]]\n",
        "        and NOT a Triangle object.\n",
        "    attr: Attribute to interpolate across the triangle (e.g., position)\n",
        "    p: Point (in NDC space) at which to compute interpolated attribute\n",
        "    \"\"\"\n",
        "    (alpha, beta, gamma) = barycentric(triangle[0], triangle[1], triangle[2], p)\n",
        "    return (alpha * attr[0] / triangle[0][3] + beta * attr[1] / triangle[1][3] + gamma * attr[2] / triangle[2][3]) / (alpha / triangle[0][3] + beta / triangle[1][3] + gamma / triangle[2][3])"
      ],
      "execution_count": 28,
      "outputs": []
    },
    {
      "cell_type": "markdown",
      "metadata": {
        "id": "R15q1WkaoXbo"
      },
      "source": [
        "We are now ready to implement the rasterization loop for a single triangle. In effect, we will do the following.\n",
        "\n",
        "1. compute the viewing and perspective transformation matrices; this enables us to project the triangle vertices from world coordinates into a canonical view volume,\n",
        "2. compute the bounding box of the triangle and map its vertices to image coordinates, and\n",
        "3. for each pixel in the bounding box, check whether or not it lies inside the triangle; if the pixel lies inside the triangle, assign the color of the triangle (diffuse color) to that pixel\n",
        "\n",
        "Using this information, complete the empty functions `bbox()` and `rasterize()` below.\n",
        "\n",
        "**Note**: the bellow cells must only contain the `bbox()` and `rasterize()` functions respectively. You may NOT have any statements in these cells that are outside the scope of the functions. You may NOT modify the function call (arguments, return statements) as they interfere with the autograder."
      ]
    },
    {
      "cell_type": "code",
      "metadata": {
        "id": "fYnxeZrDCUYI"
      },
      "source": [
        "def bbox(triangle, eps=1e-6):\n",
        "    \"\"\"\n",
        "        The bounding box of the triangle.\n",
        "        Parameters:\n",
        "        triangle: triangle vertices in np.array. E.g., triangle[0], triangle[1], triangle[3] are 3 vertices (coordinates).\n",
        "        eps: a tiny number (epsilon) for clipping the result. See the comments below.\n",
        "    \"\"\"\n",
        "    # TODO: Compute the bounding box of a griven triangle\n",
        "    # The triangle is assumed to be in 2D (normalized view volume) and each \n",
        "    # vertex of the triangle may be accessed by indexing as follows:\n",
        "    # First dim indexes the triangle vertex (0 -> first vertex,\n",
        "    # 1 -> second vertex, 2 -> third vertex)\n",
        "    # Second dim indexes the coordinate (0 -> x, 1 -> y)\n",
        "    # E.g., the y coordinate of the first vertex is triangle[0][1]\n",
        "    # Note that xmin, xmax, ymin, xmax should be in the NDC space. E.g., -1 < xmin < 1, etc.\n",
        "    # That is, you need to clamp them in [-1+eps, 1-eps].\n",
        "    s_tri = np.clip(np.sort(triangle, axis=0), -1 + eps, 1 - eps)\n",
        "    xs, ys = s_tri[:, 0], s_tri[:, 1]\n",
        "\n",
        "    xmin, xmax, ymin, ymax = xs[0], xs[-1], ys[0], ys[-1]\n",
        "\n",
        "    return xmin, xmax, ymin, ymax"
      ],
      "execution_count": 12,
      "outputs": []
    },
    {
      "cell_type": "code",
      "metadata": {
        "id": "wTd4FXVmDmrD"
      },
      "source": [
        "def rasterize(scene, triangle):\n",
        "    \"\"\"\n",
        "        Rasterize a single triangle in the scene.\n",
        "        Parameters:\n",
        "        scene: an instance of Scene class.\n",
        "        triangle: the triangle to be rasterized. It is an instance of Triangle class, not vertices in np.array.\n",
        "    \"\"\"\n",
        "    # DO NOT modify these three lines\n",
        "    width = scene.config[\"width\"]\n",
        "    height = scene.config[\"height\"]\n",
        "    img = np.zeros((height, width, 3))\n",
        "\n",
        "    # TODO: Implement the rasterization loop here\n",
        "    # Recall that a rasterization loop comprises the following steps\n",
        "    # 1. transform primitives (here, triangles) from world space to NDC space\n",
        "    # 2. Compute the bounding box enclosing the triangle (this assumes the \n",
        "    #    triangle to be in NDC space)\n",
        "    #         `(xmin, xmax, ymin, ymax) = bbox(triangle_ndc)`\n",
        "    # 3. Loop over all pixels in the bounding box, and implement the Barycentric\n",
        "    #    coordinate-based rasterization scheme described in the question.\n",
        "    \n",
        "    # DO NOT modify this return statement\n",
        "    cam = scene.cam\n",
        "    eye, at, up = cam.eye, cam.at, cam.up\n",
        "    near, far = cam_near, cam_far\n",
        "\n",
        "    config = scene.config\n",
        "    fov = config[\"fov\"] * np.pi / 180.\n",
        "    aspect = config[\"width\"] / config[\"height\"]\n",
        "\n",
        "    # transform from world space to NDC space\n",
        "\n",
        "    tri_World3d = np.hstack((np.stack((triangle.v0, triangle.v1), axis=-1), triangle.v2[:, np.newaxis]))\n",
        "    tri_Cam4d = lookAt(eye, at, up) @ np.vstack((tri_World3d, np.ones((3,), int)))\n",
        "    tri_NDC4d_t = np.transpose(perspective(fov, aspect, near, far) @ tri_Cam4d)\n",
        "\n",
        "    v0_NDC4d, v1_NDC4d, v2_NDC4d = tri_NDC4d_t[0, :], tri_NDC4d_t[1, :], tri_NDC4d_t[2, :]\n",
        "    tri_Attr = np.array([triangle.mat.c, triangle.mat.c, triangle.mat.c])\n",
        "\n",
        "    # Compute the bounding box and map to Image Space\n",
        "    xmin, xmax, ymin, ymax = bbox(tri_NDC4d_t[:, :2] / np.transpose(tri_Cam4d[3, np.newaxis]))\n",
        "\n",
        "    min_Img, max_Img = np.array(NDC2Image(xmin, ymin, width, height)), np.array(\n",
        "        NDC2Image(xmax, ymax, width, height))\n",
        "\n",
        "    # Loop over pixels in the bbox\n",
        "    diff_Img = max_Img - min_Img\n",
        "    for p in np.ndindex(diff_Img[0], -diff_Img[1]):\n",
        "        p_real = (p[0] + min_Img[0], -p[1] + min_Img[1])\n",
        "        p_NDC = image2NDC(p_real[0], p_real[1], width, height)\n",
        "        p_NDC = np.append(p_NDC, [1, 1])\n",
        "        (a, b, c) = barycentric(v0_NDC4d / v0_NDC4d[3], v1_NDC4d / v1_NDC4d[3], v2_NDC4d / v2_NDC4d[3], p_NDC)\n",
        "        if 0 <= a <= 1 and 0 <= b <= 1 and 0 <= c <= 1:\n",
        "            img[p_real[1], p_real[0]] = interpolate(tri_NDC4d_t, tri_Attr, p_NDC)\n",
        "            # print(img[p_real[1], p_real[0]])\n",
        "    # print(img)\n",
        "    return img\n"
      ],
      "execution_count": 29,
      "outputs": []
    },
    {
      "cell_type": "markdown",
      "metadata": {
        "id": "AEt6xcT9stv8"
      },
      "source": [
        "The following code loads a scene with only one triangle for testing.\n",
        "It will be reused later by your ray tracer.\n",
        "Simply run the cell before generating your rasterized image."
      ]
    },
    {
      "cell_type": "code",
      "metadata": {
        "id": "xMpD0cZR51s6"
      },
      "source": [
        "def loadTriangleScene(width, height):\n",
        "    objects = [Triangle([5, -2.5, 0], [-5, -2.5, 0], [0, 2.5, 0], Diffuse([1, 0, 0]))]\n",
        "    light = PointLight([0, 15, -15], [36000, 36000, 36000])\n",
        "    camera = Camera(np.array([0, 0, -15]), np.array([0, 0, 0]), np.array([0, 1, 0]))\n",
        "    config = { \"width\": width, \"height\": height, \"fov\": 60 }\n",
        "    return Scene(objects, light, camera, config)"
      ],
      "execution_count": 30,
      "outputs": []
    },
    {
      "cell_type": "markdown",
      "metadata": {
        "id": "DN9iN5N36y2S"
      },
      "source": [
        "Now render your rasterized triangle and see if you can successfully obtain a red-colored, upward-pointing triangle.\n",
        "The rendered result will also be written to an EXR image.\n",
        "\n",
        "For faster debugging, we currently set `imgWidth` and `imgHeight` to `64`. **For the eventual solution, you are required to render a `512 x 512` image**. (Note that rendering at this resolution may take several minutes, so please plan ahead of time)"
      ]
    },
    {
      "cell_type": "code",
      "metadata": {
        "id": "UVAjG_nhUjAo"
      },
      "source": [
        "imgWidth = 64\n",
        "imgHeight = 64"
      ],
      "execution_count": 36,
      "outputs": []
    },
    {
      "cell_type": "code",
      "metadata": {
        "colab": {
          "base_uri": "https://localhost:8080/",
          "height": 335
        },
        "id": "zssukCMS60Vy",
        "outputId": "83f7eba5-f560-4f7a-e618-c3dc7997987c"
      },
      "source": [
        "scene = loadTriangleScene(imgWidth, imgHeight)\n",
        "print(f\"Start rendering in resolution: {imgWidth}x{imgHeight}, fov: {scene.config['fov']}\")\n",
        "startTime = time.monotonic()\n",
        "img = rasterize(scene, scene.geometry[0])\n",
        "duration = time.monotonic() - startTime\n",
        "print(\"Finished rendering, time taken:\", duration, \"seconds\")\n",
        "\n",
        "plt.imshow(img)\n",
        "\n",
        "print(\"Writing PNG...\")\n",
        "plt.imsave(f\"triangle-rasterization.png\", img)\n",
        "\n",
        "print(\"Writing EXR...\")\n",
        "output = np.power(img, 2.2)\n",
        "pyexr.write(f\"triangle-rasterization.exr\", output)"
      ],
      "execution_count": 37,
      "outputs": [
        {
          "output_type": "stream",
          "name": "stdout",
          "text": [
            "Start rendering in resolution: 64x64, fov: 60\n",
            "Finished rendering, time taken: 0.24032843600002707 seconds\n",
            "Writing PNG...\n",
            "Writing EXR...\n"
          ]
        },
        {
          "output_type": "display_data",
          "data": {
            "image/png": "[encoded data removed]",
            "text/plain": [
              "<Figure size 432x288 with 1 Axes>"
            ]
          },
          "metadata": {
            "needs_background": "light"
          }
        }
      ]
    },
    {
      "cell_type": "markdown",
      "metadata": {
        "id": "nC3nOqSqYZ8K"
      },
      "source": [
        "\n",
        "---\n",
        "\n",
        "## Question 2 - Ray Tracing - Single primitive (35 points)\n",
        "\n",
        "We will now implement a barebones ray tracer to render the same scene (i.e., a single triangle).\n",
        "\n",
        "**Hint:** Remember that rasterization and ray tracing are two different techniques, but solve the same problem (the primary/eye-visibility problem). You should get identical results regardless of the technique used (helpful when debugging ray tracing implementations).\n",
        "\n",
        "\n",
        "In the `Triangle` class above, the following two routines need to be implemented:\n",
        "\n",
        "- `intersect(ray)`: Check if ray intersects the current triangle, and if so, the distance to the hit point.\n",
        "- `normal(hit):` Computes the triangle normal at a hit point.\n",
        "\n",
        "After completing the `Triangle` class, implement the following ray-scene intersection method: given a `Ray` object, intersect it with all objects (here, triangles) in the scene. Determine which objects intersect this ray, and return the distance of the closest _hit_ object.\n",
        "\n",
        "**Note**: There are often multiple objects in the scene that a ray might hit. If so, you must remember to line-search for the closest _hit_."
      ]
    },
    {
      "cell_type": "code",
      "metadata": {
        "id": "Bdwy0HqOvZLz"
      },
      "source": [
        "def intersect(scene, ray):\n",
        "    \"\"\" \n",
        "    Method to intersect all objects in the scene\n",
        "    Parameters:\n",
        "        scene: scene to render.\n",
        "        ray: ray to trace.\n",
        "    Returns:\n",
        "      (has_hit, hit_object_id, distance_to_object)\n",
        "      has_hit is 0 if there is not hit, else it is 1\n",
        "      id is the idx of the scene object hit\n",
        "      t is the ray parameter (recall a ray is o + td) at which\n",
        "        a hit is found\n",
        "    \"\"\"\n",
        "    # TODO: implement this\n",
        "    primitives = scene.geometry\n",
        "\n",
        "    # Initialize return values\n",
        "    has_hit, hit_id, t = False, -1, ray.max\n",
        "\n",
        "    # Set up distance range\n",
        "    t_min, t_max = 0., ray.max\n",
        "\n",
        "    # loop\n",
        "    for (index, primitive) in zip(range(len(primitives)), primitives):\n",
        "        t = primitive.intersect(ray)\n",
        "        if t_min < t < t_max:\n",
        "            t_max = t\n",
        "            hit_id = index\n",
        "            has_hit = True\n",
        "    dist = t_max\n",
        "    return has_hit, hit_id, dist"
      ],
      "execution_count": 14,
      "outputs": []
    },
    {
      "cell_type": "markdown",
      "metadata": {
        "id": "3kHzCGgjAS6L"
      },
      "source": [
        "Recall for a point light with intensity $\\Phi$, the radiance of diffusely reflected light $L_d$ at a shading point is computed as\n",
        "\n",
        "\\begin{equation}\n",
        "    L_d = \\frac{\\rho}{\\pi} \\left( \\frac{\\Phi}{4 \\pi r^2} \\right) \\max\\left( 0, \\mathbf{n} \\cdot \\mathbf{l} \\right),\n",
        "\\end{equation}\n",
        "\n",
        "where $\\rho$ is the diffuse albedo, $r$ is the distance between the shading point and the light, $\\mathbf{n}$ is the surface normal and $\\mathbf{l}$ is the light direction.\n",
        "\n",
        "Implement the following `shade()` function according to the above formula.\n",
        "Assume $\\rho = 1$ in your code."
      ]
    },
    {
      "cell_type": "code",
      "metadata": {
        "id": "6uNS8NDOBx3h"
      },
      "source": [
        "def shade(scene, hit, triangle):\n",
        "    \"\"\"\n",
        "    Method to shade a hit point\n",
        "    Parameters:\n",
        "      scene: scene to render.\n",
        "      hit: hit point to shade.\n",
        "      triangle: hit triangle object\n",
        "    Returns:\n",
        "      radiance at the hit point \n",
        "    \"\"\"\n",
        "    # TODO: implement this\n",
        "    light = scene.light\n",
        "    light_pos, light_flux = light.p, np.asarray(light.e)\n",
        "\n",
        "    cam = scene.cam\n",
        "    cam_pos = cam.eye\n",
        "\n",
        "    diff_l = light_pos - hit\n",
        "    r = distance(light_pos, hit)\n",
        "    li = normalize(diff_l)\n",
        "\n",
        "    diff_c = normalize(cam_pos - hit)\n",
        "    normal = triangle.normal(hit)\n",
        "    tmp = 2 * (np.dot(diff_c, normal) > 0)\n",
        "\n",
        "    n = normal * (tmp - 1)\n",
        "\n",
        "    cosine = max(0, np.dot(n, li))\n",
        "    a = light_flux / (4 * np.pi * (r ** 2))\n",
        "    k = p / np.pi\n",
        "    b = k * a * cosine\n",
        "    radiance = b * triangle.mat.c\n",
        "    radiance = np.array([min(1, radiance[0]), min(1, radiance[1]), min(1, radiance[2])])\n",
        "    # radiance = triangle.mat.c\n",
        "    return radiance  # Replace this with your return statement, when implementation is ready\n"
      ],
      "execution_count": 38,
      "outputs": []
    },
    {
      "cell_type": "markdown",
      "metadata": {
        "id": "2bPb5EQNHPKN"
      },
      "source": [
        "Now trace a ray into the scene and collect the hit information.\n",
        "Evaluate and return the outgoing radiance using your `shade()` method."
      ]
    },
    {
      "cell_type": "code",
      "metadata": {
        "id": "vK5J1qmrHf4Z"
      },
      "source": [
        "def trace(scene, ray):\n",
        "    \"\"\" \n",
        "    Trace a ray in the scene, and shade the hit point\n",
        "    Parameters:\n",
        "      scene: scene to render\n",
        "      ray: ray to trace\n",
        "    Returns:\n",
        "      light radiance at the hit point \n",
        "    \"\"\"\n",
        "    intersection = intersect(scene, ray)\n",
        "    has_hit = intersection[0]\n",
        "    if has_hit is False:\n",
        "      return np.zeros(3)\n",
        "    hit_id = intersection[1]  # object id\n",
        "    t = intersection[2] # distance\n",
        "    \n",
        "    return shade(scene, ray.o + ray.d * t, scene.geometry[hit_id])"
      ],
      "execution_count": 39,
      "outputs": []
    },
    {
      "cell_type": "markdown",
      "metadata": {
        "id": "SSS_pUPjlwL-"
      },
      "source": [
        "### Putting Everything Together ###\n",
        "\n",
        "Now we have all the pieces of the ray tracer, let's put it together and implement the ray tracing rendering loop.\n",
        "The `renderRaytracing()` function below is currently empty: complete it by looping over all pixels on the image plane and computing their color.\n",
        "At a high-level, this is done as follows:\n",
        "\n",
        "1. calculate the camera perspective, the camera-to-world transformation matrix and the aspect ratio,\n",
        "2. loop over all pixels on the image plane, and\n",
        "3. generate a ray through each pixel and *splat* its contribution onto the image plane.\n",
        "\n",
        "The last step can be broken down into four (4) substeps:\n",
        "\n",
        "1. retrieve the *pixel* center $(x, y)$,\n",
        "2. construct a ray with its origin at the camera's center and its direction pointing through the pixel center,\n",
        "3. transform this ray to world coordinates, taking the FoV and aspect ratio into account,\n",
        "4. trace this ray into the scene and output the returned radiance contribution to the image buffer."
      ]
    },
    {
      "cell_type": "code",
      "metadata": {
        "id": "mKjuxhTwBF8L"
      },
      "source": [
        "def renderRaytracing(scene):\n",
        "    \"\"\"\n",
        "    Ray tracer main rendering function\n",
        "    Parameters:\n",
        "      scene: scene to render\n",
        "    Returns:\n",
        "      rendered image\n",
        "    \"\"\"\n",
        "    print(\"Rendering the scene\")\n",
        "\n",
        "    # TODO: implement this\n",
        "    # Hints:\n",
        "    # 1. Set up the model view projection transforms (use the `width`, `height`,\n",
        "    #    `fov` parameters from the `scene.config` dictionary for this).\n",
        "    # 2. Loop over all pixels in a ray, and follow the instructions from the\n",
        "    #    question to complete the ray tracing routine.\n",
        "    width, height, fovy = scene.config[\"width\"], scene.config[\"height\"], scene.config[\"fov\"] * np.pi / 180\n",
        "    aspect = width / height\n",
        "    n = cam_near\n",
        "    t = n * math.tan(fovy / 2)\n",
        "    r = t * aspect\n",
        "\n",
        "    cam = scene.cam\n",
        "    cam2World = np.linalg.inv(lookAt(cam.eye, cam.at, cam.up))\n",
        "    x, y, z, eye = cam2World[:-1, 0], cam2World[:-1, 1], cam2World[:-1, 2], cam2World[:-1, 3]\n",
        "\n",
        "    imgBuffer = np.zeros(shape=(height, width, 3))\n",
        "    # pixelBuffer = np.zeros(shape=(width, height, 2))\n",
        "\n",
        "    # set the pivot point at the top left\n",
        "    for i in range(0, width):\n",
        "        for j in range(0, height):\n",
        "            u, v = -r + ((i + 0.5) * 2 * r / width), t - ((j + 0.5) * 2 * t / height)\n",
        "            # pixel_Cam= np.asarray([u, v, d])\n",
        "            # dir_Cam = hp.normalize(pixel_Cam)\n",
        "            dir = normalize(u * x + v * y - n * z)\n",
        "            ray = Ray(eye, dir)\n",
        "            imgBuffer[j, i] = trace(scene, ray)\n",
        "\n",
        "    # Return your image\n",
        "    return imgBuffer"
      ],
      "execution_count": 40,
      "outputs": []
    },
    {
      "cell_type": "markdown",
      "metadata": {
        "id": "VKS_mjzoGd5A"
      },
      "source": [
        "Finally, it's time to check your solution.\n",
        "Run the two cells below to render and display the same triangle scene and output the result to an EXR image.\n",
        "\n",
        "For faster debugging, we currently set `imgWidth` and `imgHeight` to `64`. **For the eventual solution, you are required to render a `512 x 512` image**. (Note that rendering at this resolution may take several minutes, so please plan ahead of time)"
      ]
    },
    {
      "cell_type": "code",
      "metadata": {
        "id": "fA4kgfCcUo1-"
      },
      "source": [
        "imgWidth = 64\n",
        "imgHeight = 64"
      ],
      "execution_count": 41,
      "outputs": []
    },
    {
      "cell_type": "code",
      "metadata": {
        "id": "FFsNiz-wJUSv",
        "colab": {
          "base_uri": "https://localhost:8080/",
          "height": 352
        },
        "outputId": "13673160-5f54-4546-ee56-761e42aca97f"
      },
      "source": [
        "scene = loadTriangleScene(imgWidth, imgHeight)\n",
        "print(f\"Start rendering in resolution: {scene.config['width']}x{scene.config['height']}, fov: {scene.config['fov']}\")\n",
        "startTime = time.monotonic()\n",
        "img = renderRaytracing(scene)\n",
        "duration = time.monotonic() - startTime\n",
        "print(\"Finished rendering, time taken:\", duration, \"seconds\")\n",
        "\n",
        "plt.imshow(img)\n",
        "\n",
        "print(\"Writing PNG...\")\n",
        "plt.imsave(f\"triangle-raytracing.png\", img)\n",
        "\n",
        "print(\"Writing EXR...\")\n",
        "output = np.power(img, 2.2)\n",
        "pyexr.write(f\"triangle-raytracing.exr\", output)"
      ],
      "execution_count": 42,
      "outputs": [
        {
          "output_type": "stream",
          "name": "stdout",
          "text": [
            "Start rendering in resolution: 64x64, fov: 60\n",
            "Rendering the scene\n",
            "Finished rendering, time taken: 0.3611749320000399 seconds\n",
            "Writing PNG...\n",
            "Writing EXR...\n"
          ]
        },
        {
          "output_type": "display_data",
          "data": {
            "image/png": "[encoded data removed]",
            "text/plain": [
              "<Figure size 432x288 with 1 Axes>"
            ]
          },
          "metadata": {
            "needs_background": "light"
          }
        }
      ]
    },
    {
      "cell_type": "markdown",
      "metadata": {
        "id": "5dNGFiaoJzQb"
      },
      "source": [
        "## Question 3 - Ray tracing the Cornell Box (15 points)\n",
        "\n",
        "Having successfully rendered a triangle, we are now ready to render the famous [*Cornell Box* scene](https://www.graphics.cornell.edu/online/box/data.html).\n",
        "\n",
        "In this question, we will test our ray tracer code from above, on a more complex scene. If your above implementation was correct, it will NOT require any changes and should seamlessly run on the Cornell Box scene.\n",
        "\n",
        "The code cell below loads the scene description into memory.\n"
      ]
    },
    {
      "cell_type": "code",
      "metadata": {
        "id": "4lNsRwkH7tfs"
      },
      "source": [
        "def loadCornellBox(width, height):\n",
        "    objects = [\n",
        "    # Floor\n",
        "    Triangle([552.8, 0, 0], [0, 0, 0], [0, 0, 559.2], Diffuse([1, 1, 1])),\n",
        "    Triangle([552.8, 0, 0], [0, 0, 559.2], [552.8, 0, 559.2], Diffuse([1, 1, 1])),\n",
        "    # Ceiling\n",
        "    Triangle([556.0, 548.8, 0.0], [556.0, 548.8, 559.2],[0.0, 548.8, 559.2], Diffuse([1, 1, 1])),\n",
        "    Triangle([556.0, 548.8, 0.0], [0.0, 548.8, 559.2], [0.0, 548.8, 0.0], Diffuse([1, 1, 1])),\n",
        "    # Back Wall\n",
        "    Triangle([549.6, 0.0, 559.2], [0.0, 0.0, 559.2], [0.0, 548.8, 559.2], Diffuse([1, 1, 1])),\n",
        "    Triangle([549.6, 0.0, 559.2], [0.0, 548.8, 559.2], [556.0, 548.8, 559.2], Diffuse([1, 1, 1])),\n",
        "    # Right Wall\n",
        "    Triangle([0.0, 0.0, 559.2 ], [0.0, 0.0, 0.0], [0.0, 548.8,   0.0], Diffuse([0, 1, 0])),\n",
        "    Triangle([0.0, 0.0, 559.2], [0.0, 548.8, 0.0], [0.0, 548.8, 559.2], Diffuse([0, 1, 0])),\n",
        "    # Left Wall\n",
        "    Triangle([552.8, 0.0, 0.0], [549.6, 0.0, 559.2], [556.0, 548.8, 559.2], Diffuse([1, 0, 0])),\n",
        "    Triangle([552.8, 0.0, 0.0], [556.0, 548.8, 559.2], [556.0, 548.8, 0.0], Diffuse([1, 0, 0])),\n",
        "    # Short Block\n",
        "    Triangle([130.0, 165.0,  65.0], [82.0, 165.0, 225.0], [240.0, 165.0, 272.0],  Diffuse([1, 1, 1])),\n",
        "    Triangle([130.0, 165.0,  65.0], [240.0 ,165.0, 272.0], [290.0, 165.0, 114.0], Diffuse([1, 1, 1])),\n",
        "    Triangle([290.0, 0.0, 114.0], [290.0, 165.0, 114.0], [240.0, 165.0, 272.0], Diffuse([1, 1, 1])),\n",
        "    Triangle([290.0, 0.0, 114.0], [240.0, 165.0, 272.0], [240.0, 0.0, 272.0], Diffuse([1, 1, 1])),\n",
        "    Triangle([130.0, 0.0, 65.0], [130.0, 165.0, 65.0], [290.0, 165.0, 114.0], Diffuse([1, 1, 1])),\n",
        "    Triangle([130.0, 0.0, 65.0], [290.0, 165.0, 114.0], [290.0, 0.0, 114.0], Diffuse([1, 1, 1])),\n",
        "    Triangle([82.0, 0.0, 225.0], [82.0, 165.0, 225.0], [130.0, 165.0, 65.0], Diffuse([1, 1, 1])),\n",
        "    Triangle([82.0, 0.0, 225.0], [130.0, 165.0, 65.0], [130.0, 0.0, 65.0], Diffuse([1, 1, 1])),\n",
        "    Triangle([240.0, 0.0, 272.0], [240.0, 165.0, 272.0], [82.0, 165.0, 225.0], Diffuse([1, 1, 1])),\n",
        "    Triangle([240.0, 0.0, 272.0], [82.0, 165.0, 225.0], [82.0, 0.0, 225.0], Diffuse([1, 1, 1])),\n",
        "    # Tall Block\n",
        "    Triangle([423.0, 330.0, 247.0], [265.0, 330.0, 296.0], [314.0, 330.0, 456.0], Diffuse([1, 1, 1])),\n",
        "    Triangle([423.0, 330.0, 247.0], [314.0, 330.0, 456.0], [472.0, 330.0, 406.0], Diffuse([1, 1, 1])),\n",
        "    Triangle([423.0, 0.0, 247.0], [423.0, 330.0, 247.0], [472.0, 330.0, 406.0], Diffuse([1, 1, 1])),\n",
        "    Triangle([423.0, 0.0, 247.0], [472.0, 330.0,  406.0], [472.0, 0.0, 406.0], Diffuse([1, 1, 1])),\n",
        "    Triangle([472.0, 0.0, 406.0], [472.0, 330.0,406.0], [314.0, 330.0, 456.0], Diffuse([1, 1, 1])),\n",
        "    Triangle([472.0, 0.0, 406.0], [314.0, 330.0, 456.0], [314.0, 0.0, 456.0], Diffuse([1, 1, 1])),\n",
        "    Triangle([314.0, 0.0, 456.0], [314.0, 330.0, 456.0], [265.0, 330.0, 296.0], Diffuse([1, 1, 1])),\n",
        "    Triangle([314.0, 0.0, 456.0], [265.0,  330.0, 296.0], [265.0, 0.0, 296.0], Diffuse([1, 1, 1])),\n",
        "    Triangle([265.0, 0.0, 296.0], [265.0, 330.0, 296.0], [423.0, 330.0, 247.0], Diffuse([1, 1, 1])),\n",
        "    Triangle([265.0, 0.0, 296.0], [423.0, 330.0, 247.0], [423.0, 0.0, 247.0], Diffuse([1, 1, 1])),\n",
        "    ]\n",
        "    light = PointLight([278, 508, 279.5], [5e6, 5e6, 5e6])\n",
        "    camera = Camera(np.array([278, 273 , -800]),np.array([278, 273, 0]), np.array([0, 1, 0]))\n",
        "    config = { \"width\": width, \"height\": height, \"fov\": 38 }\n",
        "    return Scene(objects, light, camera, config)"
      ],
      "execution_count": 43,
      "outputs": []
    },
    {
      "cell_type": "markdown",
      "metadata": {
        "id": "QH6Kx-OzHgcc"
      },
      "source": [
        "If all of your ray tracing code is correctly set up, the following code cell should produce an image of the Cornell Box scene. Note that the orignal image may be accessed at [this webpage](https://www.graphics.cornell.edu/online/box/data.html).\n",
        "\n",
        "Since we currently use a low resolution output image (64 x 64), rendering should take about 20 seconds (on a Google Colab CPU-only instance). Once you are satisfied with the output, **render a 512 x 512 image**. This image will be the deliverable for this question.\n",
        "\n",
        "(Note that rendering at a `512 x 512` resolution may take several minutes, so please plan ahead of time)"
      ]
    },
    {
      "cell_type": "markdown",
      "metadata": {
        "id": "3v347aUx8n2w"
      },
      "source": [
        ""
      ]
    },
    {
      "cell_type": "code",
      "metadata": {
        "id": "Rgey93lYU0d3"
      },
      "source": [
        "imgWidth = 64\n",
        "imgHeight = 64"
      ],
      "execution_count": 44,
      "outputs": []
    },
    {
      "cell_type": "code",
      "metadata": {
        "colab": {
          "base_uri": "https://localhost:8080/",
          "height": 352
        },
        "id": "xN0s0I5RtYVs",
        "outputId": "1eef1dd2-b458-42ce-d119-7b1ac4e0317c"
      },
      "source": [
        "scene = loadCornellBox(imgWidth, imgHeight)\n",
        "print(f\"Start rendering in resolution: {imgWidth}x{imgHeight}, fov: {scene.config['fov']}\")\n",
        "startTime = time.monotonic()\n",
        "img = renderRaytracing(scene)\n",
        "duration = time.monotonic() - startTime\n",
        "print(\"Finished rendering, time taken:\", duration, \"seconds\")\n",
        "\n",
        "plt.imshow(img)\n",
        "\n",
        "print(\"Writing PNG...\")\n",
        "plt.imsave(f\"cbox-raytracing.png\", img)\n",
        "\n",
        "print(\"Writing EXR...\")\n",
        "output = np.power(img, 2.2)\n",
        "pyexr.write(f\"cbox-raytracing.exr\", output)"
      ],
      "execution_count": 45,
      "outputs": [
        {
          "output_type": "stream",
          "name": "stdout",
          "text": [
            "Start rendering in resolution: 64x64, fov: 38\n",
            "Rendering the scene\n",
            "Finished rendering, time taken: 5.593927496000106 seconds\n",
            "Writing PNG...\n",
            "Writing EXR...\n"
          ]
        },
        {
          "output_type": "display_data",
          "data": {
            "image/png": "[encoded data removed]",
            "text/plain": [
              "<Figure size 432x288 with 1 Axes>"
            ]
          },
          "metadata": {
            "needs_background": "light"
          }
        }
      ]
    },
    {
      "cell_type": "markdown",
      "metadata": {
        "id": "Gg5R2mEySC61"
      },
      "source": [
        "## Question 4 - Rasterizing the Cornell Box (25 points)\n",
        "\n",
        "For rasterizing the Cornell Box scene, we will need to implement a Z-buffer, to ensure only the object closest to the camera at each pixel is rendered. Recall that, for a triangle, we only had a single primitive; hence we did not need to perform Z-buffering.\n",
        "\n",
        "In this question, you will modify the `rasterize()` method you implemented in Question 1, and will implement a more general `renderRasterization()` method that includes a visibility test by means of a Z-buffer. In particular:\n",
        "* Factor in the position and intensity of the scene's position light\n",
        "* Initialize a Z-buffer (an array of size equal to that of pixels in the output image). Initialize depth for each pixel to a large value or infinity (`np.inf`).\n",
        "* Loop over all triangles, and rasterize them (keeping in mind the bullet points below)\n",
        "* Compute the depth with respect to the camera ($z^{'}$) by interpolating the pixel location within each triangle's vertices.\n",
        "* If the new depth (w.r.t. the camera) is smaller than the value stored in the Z-buffer for the pixel, shade the pixel using the diffuse reflection of this new triangle at the shade point.\n",
        "\n",
        "Hint: keep visualizing intermediate stages of your Z-buffer to get a better sense for debugging."
      ]
    },
    {
      "cell_type": "code",
      "metadata": {
        "id": "p_OAHCjmJAEp"
      },
      "source": [
        "def renderRasterization(scene):\n",
        "    # DO NOT modify these three lines\n",
        "    width = scene.config[\"width\"]\n",
        "    height = scene.config[\"height\"]\n",
        "    img = np.zeros((height, width, 3))\n",
        "\n",
        "    zbuf = np.full((height, width), np.inf)\n",
        "    # TODO: Implement the rasterization loop here\n",
        "\n",
        "    # transformation matrix from world space to NDC space\n",
        "    fovy = scene.config[\"fov\"]\n",
        "    PVM = perspective(fovy * math.pi / 180, width / height, 0.1, 10) @ lookAt(scene.cam.eye, scene.cam.at,\n",
        "                                                                                    scene.cam.up)\n",
        "\n",
        "    # set up point light\n",
        "    light_pos = np.asarray(scene.light.p)\n",
        "    light_em = np.asarray(scene.light.e)\n",
        "    \n",
        "    for obj in scene.geometry:\n",
        "        rasterize_q4(scene, obj, img, zbuf)\n",
        "    return img"
      ],
      "execution_count": 65,
      "outputs": []
    },
    {
      "cell_type": "markdown",
      "metadata": {
        "id": "s0zY-Tt0K_1E"
      },
      "source": [
        "Finally, rasterize the Cornell Box by running the two cells below.\n",
        "The rendered result should look identical to what you get with ray tracing.\n",
        "\n",
        "For faster debugging, we currently set `imgWidth` and `imgHeight` to `64`. **For the eventual solution, you are required to render a `512 x 512` image**. (Note that rendering at this resolution may take several minutes, so please plan ahead of time)."
      ]
    },
    {
      "cell_type": "code",
      "metadata": {
        "id": "zSzPfEWTU5lF"
      },
      "source": [
        "imgWidth = 64\n",
        "imgHeight = 64"
      ],
      "execution_count": 66,
      "outputs": []
    },
    {
      "cell_type": "code",
      "metadata": {
        "id": "Ls2J7F0oSEBB",
        "colab": {
          "base_uri": "https://localhost:8080/",
          "height": 335
        },
        "outputId": "f650ebd4-6c90-4f81-9d9b-94813e15a2f4"
      },
      "source": [
        "scene = loadCornellBox(imgWidth, imgHeight)\n",
        "print(f\"Start rendering in resolution: {imgWidth}x{imgHeight}, fov: {scene.config['fov']}\")\n",
        "startTime = time.monotonic()\n",
        "img = renderRasterization(scene)\n",
        "duration = time.monotonic() - startTime\n",
        "print(\"Finished rendering, time taken:\", duration, \"seconds\")\n",
        "\n",
        "plt.imshow(img)\n",
        "\n",
        "print(\"Writing PNG...\")\n",
        "plt.imsave(f\"cbox-rasterization.png\", img)\n",
        "\n",
        "print(\"Writing EXR...\")\n",
        "output = np.power(img, 2.2)\n",
        "pyexr.write(f\"cbox-rasterization.exr\", output)"
      ],
      "execution_count": 71,
      "outputs": [
        {
          "output_type": "stream",
          "name": "stdout",
          "text": [
            "Start rendering in resolution: 64x64, fov: 38\n",
            "Finished rendering, time taken: 2.0156699229992228 seconds\n",
            "Writing PNG...\n",
            "Writing EXR...\n"
          ]
        },
        {
          "output_type": "display_data",
          "data": {
            "image/png": "[encoded data removed]",
            "text/plain": [
              "<Figure size 432x288 with 1 Axes>"
            ]
          },
          "metadata": {
            "needs_background": "light"
          }
        }
      ]
    },
    {
      "cell_type": "markdown",
      "metadata": {
        "id": "yYHUfSsZY35Q"
      },
      "source": [
        "---\n",
        "\n",
        "## **Bonus Questions**\n",
        "\n",
        "The following questions are for **extra credit**, and are not mandatory.\n",
        "\n",
        "**Only attempt this part if you have finished all required questions**. These questions build atop Questions 1 through 4.\n",
        "\n",
        "**No partial points will be awarded on these questions.**\n",
        "\n",
        "**You may choose to attempt one or more bonus questions, and in no particular order**.\n",
        "\n",
        "The bonus questions are not autograded -- you are free to use as many cells and define functions as needed. You may not, however, import libraries other than those approved for this assignment. If in doubt, please talk to the TAs or the instructor."
      ]
    },
    {
      "cell_type": "markdown",
      "metadata": {
        "id": "dOWkIq3nOJuD"
      },
      "source": [
        "## Bonus Question 1 - Shading normals (15 points)\n",
        "\n",
        "This question involves computing the shading normals for a triangle mesh.\n",
        "\n",
        "Download the Stanford bunny `.obj` file available [here](https://graphics.stanford.edu/~mdfisher/Data/Meshes/bunny.obj). Read it into a `numpy` array (you may use the `ObjLoader` class provided [here](https://inareous.github.io/posts/opening-obj-using-py)).\n",
        "\n",
        "Note how the bunny obj file only has vertex and face information, but no normals? The objective of this bonus question is to compute the _shading normals_ for this triangle mesh and render it using your choice of rasterization / ray tracing implementation from above. With proper shading normals, the bunny should look smooth (except at the silhouettes), instead of faceted).\n",
        "\n",
        "(Hint: you will find the discussion on shading normals from the end of the rasterization module slides useful.)"
      ]
    },
    {
      "cell_type": "markdown",
      "metadata": {
        "id": "IzvDUhtnPeF_"
      },
      "source": [
        "## Bonus Question 2 - Phong illumination (15 points)\n",
        "\n",
        "For this bonus question, you will implement a Phong BRDF / reflection model. Recall, from the lectures on phenomenological shading and appearance models how Phong specular reflection models work. Augment the ray tracer you just implemented by adding a Phong illumination model to get realistic reflections of the light source on object surfaces."
      ]
    },
    {
      "cell_type": "code",
      "metadata": {
        "id": "OtsmbGD6u0P2"
      },
      "source": [
        "def shade_phong(scene, hit, triangle, kd = 0.6, ks = 0.5, p = 8):\n",
        "    \"\"\"\n",
        "        Method to shade a hit point\n",
        "        Parameters:\n",
        "          scene: scene to render.\n",
        "          hit: hit point to shade.\n",
        "          triangle: hit triangle object\n",
        "          kd: diffuse coefficient\n",
        "          ks: specular coefficient\n",
        "        Returns:\n",
        "          radiance at the hit point\n",
        "        \"\"\"\n",
        "    # TODO: implement this\n",
        "    light = scene.light\n",
        "    light_pos, light_flux = light.p, np.asarray(light.e)\n",
        "\n",
        "    cam = scene.cam\n",
        "\n",
        "    r_i = distance(light_pos, hit)\n",
        "    l_i = normalize(light_pos - hit)\n",
        "\n",
        "    r_cam = distance(cam.eye, hit)\n",
        "    l_cam =  normalize(cam.eye - hit)\n",
        "\n",
        "    h = normalize(l_cam + l_i)\n",
        "\n",
        "    n_tmp = triangle.normal(hit)\n",
        "    n = (2 * (np.dot(l_cam, n_tmp) > 0) - 1) * n_tmp\n",
        "\n",
        "    \n",
        "    \n",
        "\n",
        "    # Compute Diffuse Reflection\n",
        "    I = light_flux / (4 * np.pi ** 2 * (r_i ** 2))\n",
        "    L_diffuse = I * max([0, np.dot(n, l_i)])\n",
        "\n",
        "    # Compute Phong Reflection\n",
        "    lambertian = max(np.dot(-n, l_i), 0.0)\n",
        "    L_specular = 0.\n",
        "    if lambertian > 0.:\n",
        "        r_r = normalize(-l_i - 2* np.dot(-l_i, n) * n)\n",
        "        L_specular = math.pow(max(0, np.dot(r_r, l_cam)), p)\n",
        "\n",
        "    # Add together\n",
        "    radiance_unclip = kd * L_diffuse * triangle.mat.c + ks * L_specular * np.array(([1,1,1]))\n",
        "    radiance = np.array(([min(1, v) for v in radiance_unclip]))\n",
        "    return radiance # Replace this with your return statement, when implementation is ready\n",
        "\n",
        "\n",
        "def trace_phong(scene, ray):\n",
        "    \"\"\"\n",
        "        Trace a ray in the scene, and shade the hit point\n",
        "        Parameters:\n",
        "          scene: scene to render\n",
        "          ray: ray to trace\n",
        "        Returns:\n",
        "          light radiance at the hit point\n",
        "        \"\"\"\n",
        "    intersection = intersect(scene, ray)\n",
        "    has_hit = intersection[0]\n",
        "    if has_hit is False:\n",
        "        return np.zeros(3)\n",
        "    hit_id = intersection[1]  # object id\n",
        "    t = intersection[2]  # distance\n",
        "\n",
        "    return shade_phong(scene, ray.o + ray.d * t, scene.geometry[hit_id])\n",
        "\n",
        "\n",
        "def renderRaytracing_phong(scene):\n",
        "    \"\"\"\n",
        "        Ray tracer main rendering function\n",
        "        Parameters:\n",
        "          scene: scene to render\n",
        "        Returns:\n",
        "          rendered image\n",
        "        \"\"\"\n",
        "    print(\"Rendering the scene\")\n",
        "\n",
        "    # TODO: implement this\n",
        "    # Hints:\n",
        "    # 1. Set up the model view projection transforms (use the `width`, `height`,\n",
        "    #    `fov` parameters from the `scene.config` dictionary for this).\n",
        "    # 2. Loop over all pixels in a ray, and follow the instructions from the\n",
        "    #    question to complete the ray tracing routine.\n",
        "    width, height, fovy = scene.config[\"width\"], scene.config[\"height\"], scene.config[\"fov\"] * np.pi / 180\n",
        "    aspect = width / height\n",
        "    n = cam_near\n",
        "    t = n * math.tan(fovy / 2)\n",
        "    r = t * aspect\n",
        "\n",
        "    cam = scene.cam\n",
        "    cam2World = np.linalg.inv(lookAt(cam.eye, cam.at, cam.up))\n",
        "    x, y, z, eye = cam2World[:-1, 0], cam2World[:-1, 1], cam2World[:-1, 2], cam2World[:-1, 3]\n",
        "\n",
        "    imgBuffer = np.zeros(shape=(height, width, 3))\n",
        "    # pixelBuffer = np.zeros(shape=(width, height, 2))\n",
        "\n",
        "    # set the pivot point at the top left\n",
        "    for i in range(0, width):\n",
        "        for j in range(0, height):\n",
        "            u, v = -r + ((i + 0.5) * 2 * r / width), t - ((j + 0.5) * 2 * t / height)\n",
        "            # pixel_Cam= np.asarray([u, v, d])\n",
        "            # dir_Cam = hp.normalize(pixel_Cam)\n",
        "            dir = normalize(u * x + v * y - n * z)\n",
        "            ray = Ray(eye, dir)\n",
        "            imgBuffer[j, i] = trace_phong(scene, ray)\n",
        "\n",
        "    # Return your image\n",
        "    return imgBuffer"
      ],
      "execution_count": 97,
      "outputs": []
    },
    {
      "cell_type": "code",
      "metadata": {
        "id": "Q_e7ehd4uwLb",
        "outputId": "74307149-35a1-4eb4-82cd-69f568afe255",
        "colab": {
          "base_uri": "https://localhost:8080/",
          "height": 335
        }
      },
      "source": [
        "imgWidth = 512\n",
        "imgHeight = 512\n",
        "scene = loadCornellBox(imgWidth, imgHeight)\n",
        "startTime = time.monotonic()\n",
        "img = renderRaytracing_phong(scene)\n",
        "duration = time.monotonic() - startTime\n",
        "print(\"Finished rendering, time taken:\", duration, \"seconds\")\n",
        "plt.imshow(img)\n",
        "plt.show()\n",
        "print(\"Writing PNG...\")\n",
        "plt.imsave(f\"cbox-raytracing-phong.png\", img)\n",
        "print(\"Writing EXR...\")\n",
        "output = np.power(img, 2.2)"
      ],
      "execution_count": 98,
      "outputs": [
        {
          "output_type": "stream",
          "name": "stdout",
          "text": [
            "Rendering the scene\n",
            "Finished rendering, time taken: 5.77394928800004 seconds\n"
          ]
        },
        {
          "output_type": "display_data",
          "data": {
            "image/png": "[encoded data removed]",
            "text/plain": [
              "<Figure size 432x288 with 1 Axes>"
            ]
          },
          "metadata": {
            "needs_background": "light"
          }
        },
        {
          "output_type": "stream",
          "name": "stdout",
          "text": [
            "Writing PNG...\n",
            "Writing EXR...\n"
          ]
        }
      ]
    },
    {
      "cell_type": "markdown",
      "metadata": {
        "id": "DYTkfWvQQ6LH"
      },
      "source": [
        "## Bonus Question 3 - Ray tracing with hard shadows (25 points)\n",
        "\n",
        "Notice how your ray tracing outputs do not contain any shadows? In this bonus question, you will perform ray tracing with additional _shadow rays_. In the phenomenological shading module, we saw how to extend the `trace()` routine to cast an additional shadow ray to determine whether a shade point is in  shadow w.r.t. a light source. We recommend you do this on the Cornell Box scene, but remember to use a low resolution image for debugging."
      ]
    },
    {
      "cell_type": "code",
      "metadata": {
        "id": "W0ma14d7vD37",
        "outputId": "6d59fab1-d029-41d0-92d5-c450778c9df6",
        "colab": {
          "base_uri": "https://localhost:8080/",
          "height": 421
        }
      },
      "source": [
        "def shade_shadow(scene, hit, triangle):\n",
        "    \"\"\"\n",
        "        Method to shade a hit point\n",
        "        Parameters:\n",
        "          scene: scene to render.\n",
        "          hit: hit point to shade.\n",
        "          triangle: hit triangle object\n",
        "        Returns:\n",
        "          radiance at the hit point\n",
        "        \"\"\"\n",
        "    # TODO: implement this\n",
        "    light = scene.light\n",
        "    light_pos, light_flux = light.p, np.asarray(light.e)\n",
        "\n",
        "    cam = scene.cam\n",
        "    cam_pos = cam.eye\n",
        "\n",
        "    diff_l = light_pos - hit\n",
        "    r = distance(light_pos, hit)\n",
        "    li = normalize(diff_l)\n",
        "\n",
        "    ray = Ray(light_pos, -li, r)\n",
        "    hasblocked = any(tri.intersect(ray) != 0 for tri in scene.geometry)\n",
        "    if not hasblocked:\n",
        "        diff_c = normalize(cam_pos - hit)\n",
        "        normal = triangle.normal(hit)\n",
        "        tmp = 2 * (np.dot(diff_c, normal) > 0)\n",
        "\n",
        "        n = normal * (tmp - 1)\n",
        "\n",
        "        cosine = max(0, np.dot(n, li))\n",
        "        a = light_flux / (4 * np.pi * (r ** 2))\n",
        "        k = p / np.pi\n",
        "        b = k * a * cosine\n",
        "        radiance = b * triangle.mat.c\n",
        "        radiance = np.array([min(1, radiance[0]), min(1, radiance[1]), min(1, radiance[2])])\n",
        "        # radiance = triangle.mat.c\n",
        "        return radiance  # Replace this with your return statement, when implementation is ready\n",
        "    else:\n",
        "        return np.zeros(3)\n",
        "\n",
        "def trace_shadow(scene, ray):\n",
        "    \"\"\"\n",
        "        Trace a ray in the scene, and shade the hit point\n",
        "        Parameters:\n",
        "          scene: scene to render\n",
        "          ray: ray to trace\n",
        "        Returns:\n",
        "          light radiance at the hit point\n",
        "        \"\"\"\n",
        "    intersection = intersect(scene, ray)\n",
        "    has_hit = intersection[0]\n",
        "    if has_hit is False:\n",
        "        return np.zeros(3)\n",
        "    hit_id = intersection[1]  # object id\n",
        "    t = intersection[2]  # distance\n",
        "\n",
        "    return shade_shadow(scene, ray.o + ray.d * t, scene.geometry[hit_id])\n",
        "\n",
        "def renderRaytracing_shadow(scene):\n",
        "    \"\"\"\n",
        "        Ray tracer main rendering function\n",
        "        Parameters:\n",
        "          scene: scene to render\n",
        "        Returns:\n",
        "          rendered image\n",
        "        \"\"\"\n",
        "    print(\"Rendering the scene\")\n",
        "\n",
        "    # TODO: implement this\n",
        "    # Hints:\n",
        "    # 1. Set up the model view projection transforms (use the `width`, `height`,\n",
        "    #    `fov` parameters from the `scene.config` dictionary for this).\n",
        "    # 2. Loop over all pixels in a ray, and follow the instructions from the\n",
        "    #    question to complete the ray tracing routine.\n",
        "    width, height, fovy = scene.config[\"width\"], scene.config[\"height\"], scene.config[\"fov\"] * np.pi / 180\n",
        "    aspect = width / height\n",
        "    n = cam_near\n",
        "    t = n * math.tan(fovy / 2)\n",
        "    r = t * aspect\n",
        "\n",
        "    cam = scene.cam\n",
        "    cam2World = np.linalg.inv(lookAt(cam.eye, cam.at, cam.up))\n",
        "    x, y, z, eye = cam2World[:-1, 0], cam2World[:-1, 1], cam2World[:-1, 2], cam2World[:-1, 3]\n",
        "\n",
        "    imgBuffer = np.zeros(shape=(height, width, 3))\n",
        "    # pixelBuffer = np.zeros(shape=(width, height, 2))\n",
        "\n",
        "    # set the pivot point at the top left\n",
        "    for i in range(0, width):\n",
        "        for j in range(0, height):\n",
        "            u, v = -r + ((i + 0.5) * 2 * r / width), t - ((j + 0.5) * 2 * t / height)\n",
        "            # pixel_Cam= np.asarray([u, v, d])\n",
        "            # dir_Cam = hp.normalize(pixel_Cam)\n",
        "            dir = normalize(u * x + v * y - n * z)\n",
        "            ray = Ray(eye, dir)\n",
        "            imgBuffer[j, i] = trace_shadow(scene, ray)\n",
        "\n",
        "    # Return your image\n",
        "    return imgBuffer\n",
        "\n",
        "imgWidth = 64\n",
        "imgHeight = 64\n",
        "scene = loadCornellBox(imgWidth, imgHeight)\n",
        "startTime = time.monotonic()\n",
        "img = renderRaytracing_shadow(scene)\n",
        "duration = time.monotonic() - startTime\n",
        "print(\"Finished rendering, time taken:\", duration, \"seconds\")\n",
        "\n",
        "plt.imshow(img)\n",
        "plt.show()\n",
        "print(\"Writing PNG...\")\n",
        "plt.imsave(f\"cbox-rasterization.png\", img)\n",
        "\n",
        "print(\"Writing EXR...\")\n",
        "output = np.power(img, 2.2)"
      ],
      "execution_count": 84,
      "outputs": [
        {
          "output_type": "stream",
          "name": "stdout",
          "text": [
            "Rendering the scene\n"
          ]
        },
        {
          "output_type": "error",
          "ename": "KeyboardInterrupt",
          "evalue": "ignored",
          "traceback": [
            "\u001b[0;31m---------------------------------------------------------------------------\u001b[0m",
            "\u001b[0;31mKeyboardInterrupt\u001b[0m                         Traceback (most recent call last)",
            "\u001b[0;32m<ipython-input-84-4affb456686c>\u001b[0m in \u001b[0;36m<module>\u001b[0;34m()\u001b[0m\n\u001b[1;32m    104\u001b[0m \u001b[0mscene\u001b[0m \u001b[0;34m=\u001b[0m \u001b[0mloadCornellBox\u001b[0m\u001b[0;34m(\u001b[0m\u001b[0mimgWidth\u001b[0m\u001b[0;34m,\u001b[0m \u001b[0mimgHeight\u001b[0m\u001b[0;34m)\u001b[0m\u001b[0;34m\u001b[0m\u001b[0;34m\u001b[0m\u001b[0m\n\u001b[1;32m    105\u001b[0m \u001b[0mstartTime\u001b[0m \u001b[0;34m=\u001b[0m \u001b[0mtime\u001b[0m\u001b[0;34m.\u001b[0m\u001b[0mmonotonic\u001b[0m\u001b[0;34m(\u001b[0m\u001b[0;34m)\u001b[0m\u001b[0;34m\u001b[0m\u001b[0;34m\u001b[0m\u001b[0m\n\u001b[0;32m--> 106\u001b[0;31m \u001b[0mimg\u001b[0m \u001b[0;34m=\u001b[0m \u001b[0mrenderRaytracing_shadow\u001b[0m\u001b[0;34m(\u001b[0m\u001b[0mscene\u001b[0m\u001b[0;34m)\u001b[0m\u001b[0;34m\u001b[0m\u001b[0;34m\u001b[0m\u001b[0m\n\u001b[0m\u001b[1;32m    107\u001b[0m \u001b[0mduration\u001b[0m \u001b[0;34m=\u001b[0m \u001b[0mtime\u001b[0m\u001b[0;34m.\u001b[0m\u001b[0mmonotonic\u001b[0m\u001b[0;34m(\u001b[0m\u001b[0;34m)\u001b[0m \u001b[0;34m-\u001b[0m \u001b[0mstartTime\u001b[0m\u001b[0;34m\u001b[0m\u001b[0;34m\u001b[0m\u001b[0m\n\u001b[1;32m    108\u001b[0m \u001b[0mprint\u001b[0m\u001b[0;34m(\u001b[0m\u001b[0;34m\"Finished rendering, time taken:\"\u001b[0m\u001b[0;34m,\u001b[0m \u001b[0mduration\u001b[0m\u001b[0;34m,\u001b[0m \u001b[0;34m\"seconds\"\u001b[0m\u001b[0;34m)\u001b[0m\u001b[0;34m\u001b[0m\u001b[0;34m\u001b[0m\u001b[0m\n",
            "\u001b[0;32m<ipython-input-84-4affb456686c>\u001b[0m in \u001b[0;36mrenderRaytracing_shadow\u001b[0;34m(scene)\u001b[0m\n\u001b[1;32m     95\u001b[0m             \u001b[0mdir\u001b[0m \u001b[0;34m=\u001b[0m \u001b[0mnormalize\u001b[0m\u001b[0;34m(\u001b[0m\u001b[0mu\u001b[0m \u001b[0;34m*\u001b[0m \u001b[0mx\u001b[0m \u001b[0;34m+\u001b[0m \u001b[0mv\u001b[0m \u001b[0;34m*\u001b[0m \u001b[0my\u001b[0m \u001b[0;34m-\u001b[0m \u001b[0mn\u001b[0m \u001b[0;34m*\u001b[0m \u001b[0mz\u001b[0m\u001b[0;34m)\u001b[0m\u001b[0;34m\u001b[0m\u001b[0;34m\u001b[0m\u001b[0m\n\u001b[1;32m     96\u001b[0m             \u001b[0mray\u001b[0m \u001b[0;34m=\u001b[0m \u001b[0mRay\u001b[0m\u001b[0;34m(\u001b[0m\u001b[0meye\u001b[0m\u001b[0;34m,\u001b[0m \u001b[0mdir\u001b[0m\u001b[0;34m)\u001b[0m\u001b[0;34m\u001b[0m\u001b[0;34m\u001b[0m\u001b[0m\n\u001b[0;32m---> 97\u001b[0;31m             \u001b[0mimgBuffer\u001b[0m\u001b[0;34m[\u001b[0m\u001b[0mj\u001b[0m\u001b[0;34m,\u001b[0m \u001b[0mi\u001b[0m\u001b[0;34m]\u001b[0m \u001b[0;34m=\u001b[0m \u001b[0mtrace_shadow\u001b[0m\u001b[0;34m(\u001b[0m\u001b[0mscene\u001b[0m\u001b[0;34m,\u001b[0m \u001b[0mray\u001b[0m\u001b[0;34m)\u001b[0m\u001b[0;34m\u001b[0m\u001b[0;34m\u001b[0m\u001b[0m\n\u001b[0m\u001b[1;32m     98\u001b[0m \u001b[0;34m\u001b[0m\u001b[0m\n\u001b[1;32m     99\u001b[0m     \u001b[0;31m# Return your image\u001b[0m\u001b[0;34m\u001b[0m\u001b[0;34m\u001b[0m\u001b[0;34m\u001b[0m\u001b[0m\n",
            "\u001b[0;32m<ipython-input-84-4affb456686c>\u001b[0m in \u001b[0;36mtrace_shadow\u001b[0;34m(scene, ray)\u001b[0m\n\u001b[1;32m     56\u001b[0m     \u001b[0mt\u001b[0m \u001b[0;34m=\u001b[0m \u001b[0mintersection\u001b[0m\u001b[0;34m[\u001b[0m\u001b[0;36m2\u001b[0m\u001b[0;34m]\u001b[0m  \u001b[0;31m# distance\u001b[0m\u001b[0;34m\u001b[0m\u001b[0;34m\u001b[0m\u001b[0m\n\u001b[1;32m     57\u001b[0m \u001b[0;34m\u001b[0m\u001b[0m\n\u001b[0;32m---> 58\u001b[0;31m     \u001b[0;32mreturn\u001b[0m \u001b[0mshade_shadow\u001b[0m\u001b[0;34m(\u001b[0m\u001b[0mscene\u001b[0m\u001b[0;34m,\u001b[0m \u001b[0mray\u001b[0m\u001b[0;34m.\u001b[0m\u001b[0mo\u001b[0m \u001b[0;34m+\u001b[0m \u001b[0mray\u001b[0m\u001b[0;34m.\u001b[0m\u001b[0md\u001b[0m \u001b[0;34m*\u001b[0m \u001b[0mt\u001b[0m\u001b[0;34m,\u001b[0m \u001b[0mscene\u001b[0m\u001b[0;34m.\u001b[0m\u001b[0mgeometry\u001b[0m\u001b[0;34m[\u001b[0m\u001b[0mhit_id\u001b[0m\u001b[0;34m]\u001b[0m\u001b[0;34m)\u001b[0m\u001b[0;34m\u001b[0m\u001b[0;34m\u001b[0m\u001b[0m\n\u001b[0m\u001b[1;32m     59\u001b[0m \u001b[0;34m\u001b[0m\u001b[0m\n\u001b[1;32m     60\u001b[0m \u001b[0;32mdef\u001b[0m \u001b[0mrenderRaytracing_shadow\u001b[0m\u001b[0;34m(\u001b[0m\u001b[0mscene\u001b[0m\u001b[0;34m)\u001b[0m\u001b[0;34m:\u001b[0m\u001b[0;34m\u001b[0m\u001b[0;34m\u001b[0m\u001b[0m\n",
            "\u001b[0;32m<ipython-input-84-4affb456686c>\u001b[0m in \u001b[0;36mshade_shadow\u001b[0;34m(scene, hit, triangle)\u001b[0m\n\u001b[1;32m     21\u001b[0m \u001b[0;34m\u001b[0m\u001b[0m\n\u001b[1;32m     22\u001b[0m     \u001b[0mray\u001b[0m \u001b[0;34m=\u001b[0m \u001b[0mRay\u001b[0m\u001b[0;34m(\u001b[0m\u001b[0mlight_pos\u001b[0m\u001b[0;34m,\u001b[0m \u001b[0;34m-\u001b[0m\u001b[0mli\u001b[0m\u001b[0;34m,\u001b[0m \u001b[0mr\u001b[0m\u001b[0;34m)\u001b[0m\u001b[0;34m\u001b[0m\u001b[0;34m\u001b[0m\u001b[0m\n\u001b[0;32m---> 23\u001b[0;31m     \u001b[0mhasblocked\u001b[0m \u001b[0;34m=\u001b[0m \u001b[0many\u001b[0m\u001b[0;34m(\u001b[0m\u001b[0mtri\u001b[0m\u001b[0;34m.\u001b[0m\u001b[0mintersect\u001b[0m\u001b[0;34m(\u001b[0m\u001b[0mray\u001b[0m\u001b[0;34m)\u001b[0m \u001b[0;34m!=\u001b[0m \u001b[0;36m0\u001b[0m \u001b[0;32mfor\u001b[0m \u001b[0mtri\u001b[0m \u001b[0;32min\u001b[0m \u001b[0mscene\u001b[0m\u001b[0;34m.\u001b[0m\u001b[0mgeometry\u001b[0m\u001b[0;34m)\u001b[0m\u001b[0;34m\u001b[0m\u001b[0;34m\u001b[0m\u001b[0m\n\u001b[0m\u001b[1;32m     24\u001b[0m     \u001b[0;32mif\u001b[0m \u001b[0;32mnot\u001b[0m \u001b[0mhasblocked\u001b[0m\u001b[0;34m:\u001b[0m\u001b[0;34m\u001b[0m\u001b[0;34m\u001b[0m\u001b[0m\n\u001b[1;32m     25\u001b[0m         \u001b[0mdiff_c\u001b[0m \u001b[0;34m=\u001b[0m \u001b[0mnormalize\u001b[0m\u001b[0;34m(\u001b[0m\u001b[0mcam_pos\u001b[0m \u001b[0;34m-\u001b[0m \u001b[0mhit\u001b[0m\u001b[0;34m)\u001b[0m\u001b[0;34m\u001b[0m\u001b[0;34m\u001b[0m\u001b[0m\n",
            "\u001b[0;32m<ipython-input-84-4affb456686c>\u001b[0m in \u001b[0;36m<genexpr>\u001b[0;34m(.0)\u001b[0m\n\u001b[1;32m     21\u001b[0m \u001b[0;34m\u001b[0m\u001b[0m\n\u001b[1;32m     22\u001b[0m     \u001b[0mray\u001b[0m \u001b[0;34m=\u001b[0m \u001b[0mRay\u001b[0m\u001b[0;34m(\u001b[0m\u001b[0mlight_pos\u001b[0m\u001b[0;34m,\u001b[0m \u001b[0;34m-\u001b[0m\u001b[0mli\u001b[0m\u001b[0;34m,\u001b[0m \u001b[0mr\u001b[0m\u001b[0;34m)\u001b[0m\u001b[0;34m\u001b[0m\u001b[0;34m\u001b[0m\u001b[0m\n\u001b[0;32m---> 23\u001b[0;31m     \u001b[0mhasblocked\u001b[0m \u001b[0;34m=\u001b[0m \u001b[0many\u001b[0m\u001b[0;34m(\u001b[0m\u001b[0mtri\u001b[0m\u001b[0;34m.\u001b[0m\u001b[0mintersect\u001b[0m\u001b[0;34m(\u001b[0m\u001b[0mray\u001b[0m\u001b[0;34m)\u001b[0m \u001b[0;34m!=\u001b[0m \u001b[0;36m0\u001b[0m \u001b[0;32mfor\u001b[0m \u001b[0mtri\u001b[0m \u001b[0;32min\u001b[0m \u001b[0mscene\u001b[0m\u001b[0;34m.\u001b[0m\u001b[0mgeometry\u001b[0m\u001b[0;34m)\u001b[0m\u001b[0;34m\u001b[0m\u001b[0;34m\u001b[0m\u001b[0m\n\u001b[0m\u001b[1;32m     24\u001b[0m     \u001b[0;32mif\u001b[0m \u001b[0;32mnot\u001b[0m \u001b[0mhasblocked\u001b[0m\u001b[0;34m:\u001b[0m\u001b[0;34m\u001b[0m\u001b[0;34m\u001b[0m\u001b[0m\n\u001b[1;32m     25\u001b[0m         \u001b[0mdiff_c\u001b[0m \u001b[0;34m=\u001b[0m \u001b[0mnormalize\u001b[0m\u001b[0;34m(\u001b[0m\u001b[0mcam_pos\u001b[0m \u001b[0;34m-\u001b[0m \u001b[0mhit\u001b[0m\u001b[0;34m)\u001b[0m\u001b[0;34m\u001b[0m\u001b[0;34m\u001b[0m\u001b[0m\n",
            "\u001b[0;32m<ipython-input-27-1ba01e809e41>\u001b[0m in \u001b[0;36mintersect\u001b[0;34m(self, r)\u001b[0m\n\u001b[1;32m     26\u001b[0m         \u001b[0;31m# Solve Ax = b\u001b[0m\u001b[0;34m\u001b[0m\u001b[0;34m\u001b[0m\u001b[0;34m\u001b[0m\u001b[0m\n\u001b[1;32m     27\u001b[0m         \u001b[0;32mtry\u001b[0m\u001b[0;34m:\u001b[0m\u001b[0;34m\u001b[0m\u001b[0;34m\u001b[0m\u001b[0m\n\u001b[0;32m---> 28\u001b[0;31m             \u001b[0mx\u001b[0m \u001b[0;34m=\u001b[0m \u001b[0mnp\u001b[0m\u001b[0;34m.\u001b[0m\u001b[0mlinalg\u001b[0m\u001b[0;34m.\u001b[0m\u001b[0msolve\u001b[0m\u001b[0;34m(\u001b[0m\u001b[0mA\u001b[0m\u001b[0;34m,\u001b[0m \u001b[0mb\u001b[0m\u001b[0;34m)\u001b[0m\u001b[0;34m\u001b[0m\u001b[0;34m\u001b[0m\u001b[0m\n\u001b[0m\u001b[1;32m     29\u001b[0m             \u001b[0mt\u001b[0m \u001b[0;34m=\u001b[0m \u001b[0mx\u001b[0m\u001b[0;34m[\u001b[0m\u001b[0;36m0\u001b[0m\u001b[0;34m]\u001b[0m\u001b[0;34m\u001b[0m\u001b[0;34m\u001b[0m\u001b[0m\n\u001b[1;32m     30\u001b[0m             \u001b[0mdist\u001b[0m \u001b[0;34m=\u001b[0m \u001b[0mdistance\u001b[0m\u001b[0;34m(\u001b[0m\u001b[0mr\u001b[0m\u001b[0;34m.\u001b[0m\u001b[0mo\u001b[0m \u001b[0;34m+\u001b[0m \u001b[0mt\u001b[0m \u001b[0;34m*\u001b[0m \u001b[0mr\u001b[0m\u001b[0;34m.\u001b[0m\u001b[0md\u001b[0m\u001b[0;34m,\u001b[0m \u001b[0mr\u001b[0m\u001b[0;34m.\u001b[0m\u001b[0mo\u001b[0m\u001b[0;34m)\u001b[0m\u001b[0;34m\u001b[0m\u001b[0;34m\u001b[0m\u001b[0m\n",
            "\u001b[0;32m<__array_function__ internals>\u001b[0m in \u001b[0;36msolve\u001b[0;34m(*args, **kwargs)\u001b[0m\n",
            "\u001b[0;32m/usr/local/lib/python3.7/dist-packages/numpy/linalg/linalg.py\u001b[0m in \u001b[0;36msolve\u001b[0;34m(a, b)\u001b[0m\n\u001b[1;32m    377\u001b[0m \u001b[0;34m\u001b[0m\u001b[0m\n\u001b[1;32m    378\u001b[0m     \"\"\"\n\u001b[0;32m--> 379\u001b[0;31m     \u001b[0ma\u001b[0m\u001b[0;34m,\u001b[0m \u001b[0m_\u001b[0m \u001b[0;34m=\u001b[0m \u001b[0m_makearray\u001b[0m\u001b[0;34m(\u001b[0m\u001b[0ma\u001b[0m\u001b[0;34m)\u001b[0m\u001b[0;34m\u001b[0m\u001b[0;34m\u001b[0m\u001b[0m\n\u001b[0m\u001b[1;32m    380\u001b[0m     \u001b[0m_assert_stacked_2d\u001b[0m\u001b[0;34m(\u001b[0m\u001b[0ma\u001b[0m\u001b[0;34m)\u001b[0m\u001b[0;34m\u001b[0m\u001b[0;34m\u001b[0m\u001b[0m\n\u001b[1;32m    381\u001b[0m     \u001b[0m_assert_stacked_square\u001b[0m\u001b[0;34m(\u001b[0m\u001b[0ma\u001b[0m\u001b[0;34m)\u001b[0m\u001b[0;34m\u001b[0m\u001b[0;34m\u001b[0m\u001b[0m\n",
            "\u001b[0;32m/usr/local/lib/python3.7/dist-packages/numpy/linalg/linalg.py\u001b[0m in \u001b[0;36m_makearray\u001b[0;34m(a)\u001b[0m\n\u001b[1;32m    106\u001b[0m \u001b[0;34m\u001b[0m\u001b[0m\n\u001b[1;32m    107\u001b[0m \u001b[0;32mdef\u001b[0m \u001b[0m_makearray\u001b[0m\u001b[0;34m(\u001b[0m\u001b[0ma\u001b[0m\u001b[0;34m)\u001b[0m\u001b[0;34m:\u001b[0m\u001b[0;34m\u001b[0m\u001b[0;34m\u001b[0m\u001b[0m\n\u001b[0;32m--> 108\u001b[0;31m     \u001b[0mnew\u001b[0m \u001b[0;34m=\u001b[0m \u001b[0masarray\u001b[0m\u001b[0;34m(\u001b[0m\u001b[0ma\u001b[0m\u001b[0;34m)\u001b[0m\u001b[0;34m\u001b[0m\u001b[0;34m\u001b[0m\u001b[0m\n\u001b[0m\u001b[1;32m    109\u001b[0m     \u001b[0mwrap\u001b[0m \u001b[0;34m=\u001b[0m \u001b[0mgetattr\u001b[0m\u001b[0;34m(\u001b[0m\u001b[0ma\u001b[0m\u001b[0;34m,\u001b[0m \u001b[0;34m\"__array_prepare__\"\u001b[0m\u001b[0;34m,\u001b[0m \u001b[0mnew\u001b[0m\u001b[0;34m.\u001b[0m\u001b[0m__array_wrap__\u001b[0m\u001b[0;34m)\u001b[0m\u001b[0;34m\u001b[0m\u001b[0;34m\u001b[0m\u001b[0m\n\u001b[1;32m    110\u001b[0m     \u001b[0;32mreturn\u001b[0m \u001b[0mnew\u001b[0m\u001b[0;34m,\u001b[0m \u001b[0mwrap\u001b[0m\u001b[0;34m\u001b[0m\u001b[0;34m\u001b[0m\u001b[0m\n",
            "\u001b[0;32m/usr/local/lib/python3.7/dist-packages/numpy/core/_asarray.py\u001b[0m in \u001b[0;36masarray\u001b[0;34m(a, dtype, order)\u001b[0m\n\u001b[1;32m     81\u001b[0m \u001b[0;34m\u001b[0m\u001b[0m\n\u001b[1;32m     82\u001b[0m     \"\"\"\n\u001b[0;32m---> 83\u001b[0;31m     \u001b[0;32mreturn\u001b[0m \u001b[0marray\u001b[0m\u001b[0;34m(\u001b[0m\u001b[0ma\u001b[0m\u001b[0;34m,\u001b[0m \u001b[0mdtype\u001b[0m\u001b[0;34m,\u001b[0m \u001b[0mcopy\u001b[0m\u001b[0;34m=\u001b[0m\u001b[0;32mFalse\u001b[0m\u001b[0;34m,\u001b[0m \u001b[0morder\u001b[0m\u001b[0;34m=\u001b[0m\u001b[0morder\u001b[0m\u001b[0;34m)\u001b[0m\u001b[0;34m\u001b[0m\u001b[0;34m\u001b[0m\u001b[0m\n\u001b[0m\u001b[1;32m     84\u001b[0m \u001b[0;34m\u001b[0m\u001b[0m\n\u001b[1;32m     85\u001b[0m \u001b[0;34m\u001b[0m\u001b[0m\n",
            "\u001b[0;31mKeyboardInterrupt\u001b[0m: "
          ]
        }
      ]
    }
  ]
}